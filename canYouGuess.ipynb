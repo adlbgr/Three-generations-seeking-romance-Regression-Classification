{
 "cells": [
  {
   "cell_type": "markdown",
   "metadata": {},
   "source": [
    "# Welcome\n",
    "---\n",
    "\n",
    "1. **Title**\n",
    "   - Three Generations Seeking Romance - Regression & Classification\n",
    "\n",
    "2. **Introduction**\n",
    "   - Project objectives and scope\n",
    "   - Information about the dataset used\n",
    "\n",
    "3. **Data Loading and Preprocessing**\n",
    "   - Loading necessary libraries\n",
    "     ```python\n",
    "     import pandas as pd\n",
    "     import numpy as np\n",
    "     import warnings\n",
    "     warnings.filterwarnings(\"ignore\")\n",
    "     pd.set_option(\"display.max_columns\", 100)\n",
    "     ```\n",
    "   - Loading the dataset\n",
    "   - Initial examination of the dataset (head, info, describe)\n",
    "   - Checking and handling missing data\n",
    "   - Data cleaning (e.g., removing punctuation, fixing extra spaces)\n",
    "\n",
    "4. **Data Exploration and Visualization**\n",
    "   - Basic statistical analyses\n",
    "   - Visualizing data distributions (histogram, boxplot)\n",
    "   - Visualizing income distribution by gender (bar plot)\n",
    "\n",
    "5. **Feature Engineering**\n",
    "   - Creating new features\n",
    "   - Encoding categorical variables (one-hot encoding)\n",
    "   - Scaling features (normalization, standardization)\n",
    "\n",
    "6. **Modeling**\n",
    "   - Splitting data into training and testing sets\n",
    "   - Selecting and defining models\n",
    "     ```python\n",
    "     from sklearn.linear_model import LogisticRegression\n",
    "     from sklearn.neighbors import KNeighborsClassifier\n",
    "     from sklearn.ensemble import RandomForestClassifier, AdaBoostClassifier, GradientBoostingClassifier\n",
    "     from sklearn.svm import SVC\n",
    "     from sklearn.naive_bayes import GaussianNB\n",
    "     from sklearn.tree import DecisionTreeClassifier\n",
    "     ```\n",
    "   - Training the models\n",
    "   - Evaluating the models (accuracy, precision, recall, F1-score)\n",
    "\n",
    "7. **Evaluation of Model Performance**\n",
    "   - Checking for overfitting and underfitting\n",
    "   - Optimizing hyperparameters for model improvement\n",
    "\n",
    "8. **Results and Discussion**\n",
    "   - Final model performance\n",
    "   - Interpretation of the results obtained\n",
    "   - Future improvements and work\n",
    "\n",
    "---\n"
   ]
  },
  {
   "cell_type": "code",
   "execution_count": 1,
   "metadata": {},
   "outputs": [],
   "source": [
    "import pandas as pd\n",
    "import numpy as np\n",
    "import warnings\n",
    "warnings.filterwarnings(\"ignore\")\n",
    "pd.set_option(\"display.max_columns\", 100)\n",
    "\n",
    "from sklearn.linear_model import LogisticRegression\n",
    "from sklearn.neighbors import KNeighborsClassifier\n",
    "from sklearn.ensemble import RandomForestClassifier, AdaBoostClassifier, GradientBoostingClassifier\n",
    "from sklearn.svm import SVC\n",
    "from sklearn.naive_bayes import GaussianNB\n",
    "from sklearn.tree import DecisionTreeClassifier\n",
    "from sklearn.neural_network import MLPClassifier\n",
    "\n",
    "from sklearn.model_selection import train_test_split\n",
    "from sklearn.metrics import accuracy_score, precision_score, recall_score, f1_score\n",
    "\n",
    "def algo_test_classification(x, y):\n",
    "    # Bütün modelleri tanımlıyorum\n",
    "    log_reg = LogisticRegression()\n",
    "    knn = KNeighborsClassifier()\n",
    "    rf = RandomForestClassifier()\n",
    "    ada = AdaBoostClassifier()\n",
    "    gbdt = GradientBoostingClassifier()\n",
    "    svc = SVC()\n",
    "    nb = GaussianNB()\n",
    "    dt = DecisionTreeClassifier()\n",
    "    mlp = MLPClassifier()\n",
    "\n",
    "    algos = [log_reg, knn, rf, ada, gbdt, svc, nb, dt, mlp]\n",
    "    algo_names = ['Logistic Regression', 'KNN', 'Random Forest', 'AdaBoost', 'Gradient Boosting', \n",
    "                   'SVC', 'Naive Bayes', 'Decision Tree', 'MLP']\n",
    "\n",
    "    x_train, x_test, y_train, y_test = train_test_split(x, y, test_size=0.20, random_state=42)\n",
    "    \n",
    "    accuracy = []\n",
    "    precision = []\n",
    "    recall = []\n",
    "    f1 = []\n",
    "    feature_importances = pd.DataFrame()\n",
    "    \n",
    "    # Hata ve doğruluk oranlarını bir tablo haline getirmek için bir dataframe oluşturuyorum\n",
    "    result = pd.DataFrame(columns=['Accuracy', 'Precision', 'Recall', 'F1 Score'], index=algo_names)\n",
    "    \n",
    "    for algo, name in zip(algos, algo_names):\n",
    "        model = algo.fit(x_train, y_train)\n",
    "        p = model.predict(x_test)\n",
    "        accuracy.append(accuracy_score(y_test, p))\n",
    "        precision.append(precision_score(y_test, p, average='weighted'))\n",
    "        recall.append(recall_score(y_test, p, average='weighted'))\n",
    "        f1.append(f1_score(y_test, p, average='weighted'))\n",
    "        \n",
    "        # Feature importance hesaplama\n",
    "        if hasattr(model, 'feature_importances_'):\n",
    "            importance = model.feature_importances_\n",
    "            feature_importances[name] = importance\n",
    "    \n",
    "    # result adlı tabloya doğruluk ve hata oranlarımı yerleştiriyorum\n",
    "    result.Accuracy = accuracy\n",
    "    result.Precision = precision\n",
    "    result.Recall = recall\n",
    "    result.F1_Score = f1\n",
    "    \n",
    "    # Oluşturduğum result tablosunu doğruluk oranına (accuracy) göre sıralayıp dönüyor\n",
    "    rtable = result.sort_values('Accuracy', ascending=False)\n",
    "    \n",
    "    return rtable, feature_importances\n",
    "\n",
    "\n",
    "from sklearn.linear_model import LinearRegression,SGDRegressor,Ridge,Lasso,ElasticNet\n",
    "from sklearn.neighbors import KNeighborsRegressor, RadiusNeighborsRegressor\n",
    "from sklearn.ensemble import GradientBoostingRegressor,AdaBoostRegressor\n",
    "from sklearn.tree import DecisionTreeRegressor, ExtraTreeRegressor\n",
    "from xgboost import XGBRegressor\n",
    "from sklearn.svm import SVR\n",
    "from sklearn.neural_network import MLPRegressor\n",
    "\n",
    "from sklearn.model_selection import train_test_split, GridSearchCV\n",
    "from sklearn.metrics import mean_squared_error,r2_score,mean_absolute_error\n",
    "from sklearn.preprocessing import StandardScaler\n",
    "\n",
    "def algo_test(x, y):\n",
    "    # Modeller ve parametreler\n",
    "    models = {\n",
    "        'Ridge': Ridge(),\n",
    "        'Lasso': Lasso(),\n",
    "        'ElasticNet': ElasticNet(),\n",
    "        'Gradient Boosting': GradientBoostingRegressor(),\n",
    "        'KNeighborsRegressor': KNeighborsRegressor(),\n",
    "        'Decision Tree': DecisionTreeRegressor(),\n",
    "        'XGBRegressor': XGBRegressor(),\n",
    "        'SVR': SVR(),\n",
    "        'MLP Regressor': MLPRegressor(),\n",
    "    }\n",
    "\n",
    "    params = {\n",
    "        'Ridge': {'alpha': [0.1, 1, 10]},\n",
    "        'Lasso': {'alpha': [0.1, 1, 10]},\n",
    "        'ElasticNet': {'alpha': [0.1, 1, 10], 'l1_ratio': [0.1, 0.5, 0.9]},\n",
    "        'Gradient Boosting': {'n_estimators': [100, 200, 300], 'learning_rate': [0.01, 0.1, 0.2]},\n",
    "        'KNeighborsRegressor': {'n_neighbors': [3, 5, 7]},\n",
    "        'Decision Tree': {'max_depth': [None, 10, 20]},\n",
    "        'XGBRegressor': {'n_estimators': [100, 200, 300], 'learning_rate': [0.01, 0.1, 0.2]},\n",
    "        'SVR': {'C': [0.1, 1, 10], 'gamma': ['scale', 'auto']},\n",
    "        'MLP Regressor': {'hidden_layer_sizes': [(50,), (100,), (50, 50)], 'alpha': [0.0001, 0.001, 0.01]}\n",
    "    }\n",
    "\n",
    "    x_train, x_test, y_train, y_test = train_test_split(x, y, test_size=0.20, random_state=42)\n",
    "\n",
    "    best_results = []\n",
    "\n",
    "    for name, model in models.items():\n",
    "        grid = GridSearchCV(model, params[name], scoring='r2', cv=5)\n",
    "        grid.fit(x_train, y_train)\n",
    "        best_model = grid.best_estimator_\n",
    "        predictions = best_model.predict(x_test)\n",
    "\n",
    "        best_results.append({\n",
    "            'Model': name,\n",
    "            'Best Params': grid.best_params_,\n",
    "            'R_Squared': r2_score(y_test, predictions),\n",
    "            'RMSE': mean_squared_error(y_test, predictions) ** 0.5,\n",
    "            'MAE': mean_absolute_error(y_test, predictions)\n",
    "        })\n",
    "\n",
    "    result_df = pd.DataFrame(best_results).sort_values('R_Squared', ascending=False).reset_index(drop=True)\n",
    "\n",
    "    return result_df\n",
    "\n",
    "\n"
   ]
  },
  {
   "cell_type": "markdown",
   "metadata": {},
   "source": [
    "# Data import"
   ]
  },
  {
   "cell_type": "code",
   "execution_count": 2,
   "metadata": {},
   "outputs": [
    {
     "name": "stdout",
     "output_type": "stream",
     "text": [
      "<class 'pandas.core.frame.DataFrame'>\n",
      "RangeIndex: 60552 entries, 0 to 60551\n",
      "Data columns (total 31 columns):\n",
      " #   Column       Non-Null Count  Dtype  \n",
      "---  ------       --------------  -----  \n",
      " 0   age          9514 non-null   float64\n",
      " 1   body_type    8666 non-null   object \n",
      " 2   diet         5761 non-null   object \n",
      " 3   drinks       9012 non-null   object \n",
      " 4   drugs        7215 non-null   object \n",
      " 5   education    8459 non-null   object \n",
      " 6   essay0       8667 non-null   object \n",
      " 7   essay1       8347 non-null   object \n",
      " 8   essay2       8049 non-null   object \n",
      " 9   essay3       7690 non-null   object \n",
      " 10  essay4       7879 non-null   object \n",
      " 11  essay5       7814 non-null   object \n",
      " 12  essay6       7352 non-null   object \n",
      " 13  essay7       7553 non-null   object \n",
      " 14  essay8       6361 non-null   object \n",
      " 15  essay9       7554 non-null   object \n",
      " 16  ethnicity    8565 non-null   object \n",
      " 17  height       9514 non-null   float64\n",
      " 18  income       9514 non-null   float64\n",
      " 19  job          8183 non-null   object \n",
      " 20  last_online  9514 non-null   object \n",
      " 21  location     9514 non-null   object \n",
      " 22  offspring    3886 non-null   object \n",
      " 23  orientation  9514 non-null   object \n",
      " 24  pets         6352 non-null   object \n",
      " 25  religion     6261 non-null   object \n",
      " 26  sex          9514 non-null   object \n",
      " 27  sign         7776 non-null   object \n",
      " 28  smokes       8596 non-null   object \n",
      " 29  speaks       9508 non-null   object \n",
      " 30  status       9514 non-null   object \n",
      "dtypes: float64(3), object(28)\n",
      "memory usage: 14.3+ MB\n"
     ]
    }
   ],
   "source": [
    "df = df = pd.read_csv('profiles.csv')\n",
    "df.info()\n"
   ]
  },
  {
   "cell_type": "markdown",
   "metadata": {},
   "source": [
    "# EDA"
   ]
  },
  {
   "cell_type": "code",
   "execution_count": 3,
   "metadata": {},
   "outputs": [],
   "source": [
    "df = df.drop_duplicates()\n",
    "# some columns are duplicated, we need to remove them"
   ]
  },
  {
   "cell_type": "code",
   "execution_count": 4,
   "metadata": {},
   "outputs": [
    {
     "name": "stdout",
     "output_type": "stream",
     "text": [
      "<class 'pandas.core.frame.DataFrame'>\n",
      "Index: 9515 entries, 0 to 9514\n",
      "Data columns (total 31 columns):\n",
      " #   Column       Non-Null Count  Dtype  \n",
      "---  ------       --------------  -----  \n",
      " 0   age          9514 non-null   float64\n",
      " 1   body_type    8666 non-null   object \n",
      " 2   diet         5761 non-null   object \n",
      " 3   drinks       9012 non-null   object \n",
      " 4   drugs        7215 non-null   object \n",
      " 5   education    8459 non-null   object \n",
      " 6   essay0       8667 non-null   object \n",
      " 7   essay1       8347 non-null   object \n",
      " 8   essay2       8049 non-null   object \n",
      " 9   essay3       7690 non-null   object \n",
      " 10  essay4       7879 non-null   object \n",
      " 11  essay5       7814 non-null   object \n",
      " 12  essay6       7352 non-null   object \n",
      " 13  essay7       7553 non-null   object \n",
      " 14  essay8       6361 non-null   object \n",
      " 15  essay9       7554 non-null   object \n",
      " 16  ethnicity    8565 non-null   object \n",
      " 17  height       9514 non-null   float64\n",
      " 18  income       9514 non-null   float64\n",
      " 19  job          8183 non-null   object \n",
      " 20  last_online  9514 non-null   object \n",
      " 21  location     9514 non-null   object \n",
      " 22  offspring    3886 non-null   object \n",
      " 23  orientation  9514 non-null   object \n",
      " 24  pets         6352 non-null   object \n",
      " 25  religion     6261 non-null   object \n",
      " 26  sex          9514 non-null   object \n",
      " 27  sign         7776 non-null   object \n",
      " 28  smokes       8596 non-null   object \n",
      " 29  speaks       9508 non-null   object \n",
      " 30  status       9514 non-null   object \n",
      "dtypes: float64(3), object(28)\n",
      "memory usage: 2.3+ MB\n"
     ]
    }
   ],
   "source": [
    "#is there any other unnecessary row\n",
    "df.info()"
   ]
  },
  {
   "cell_type": "code",
   "execution_count": 5,
   "metadata": {},
   "outputs": [],
   "source": [
    "df = df.dropna(subset=['age'])\n",
    "df.reset_index(drop=True, inplace=True)"
   ]
  },
  {
   "cell_type": "code",
   "execution_count": 6,
   "metadata": {},
   "outputs": [
    {
     "name": "stdout",
     "output_type": "stream",
     "text": [
      "<class 'pandas.core.frame.DataFrame'>\n",
      "RangeIndex: 9514 entries, 0 to 9513\n",
      "Data columns (total 31 columns):\n",
      " #   Column       Non-Null Count  Dtype  \n",
      "---  ------       --------------  -----  \n",
      " 0   age          9514 non-null   float64\n",
      " 1   body_type    8666 non-null   object \n",
      " 2   diet         5761 non-null   object \n",
      " 3   drinks       9012 non-null   object \n",
      " 4   drugs        7215 non-null   object \n",
      " 5   education    8459 non-null   object \n",
      " 6   essay0       8667 non-null   object \n",
      " 7   essay1       8347 non-null   object \n",
      " 8   essay2       8049 non-null   object \n",
      " 9   essay3       7690 non-null   object \n",
      " 10  essay4       7879 non-null   object \n",
      " 11  essay5       7814 non-null   object \n",
      " 12  essay6       7352 non-null   object \n",
      " 13  essay7       7553 non-null   object \n",
      " 14  essay8       6361 non-null   object \n",
      " 15  essay9       7554 non-null   object \n",
      " 16  ethnicity    8565 non-null   object \n",
      " 17  height       9514 non-null   float64\n",
      " 18  income       9514 non-null   float64\n",
      " 19  job          8183 non-null   object \n",
      " 20  last_online  9514 non-null   object \n",
      " 21  location     9514 non-null   object \n",
      " 22  offspring    3886 non-null   object \n",
      " 23  orientation  9514 non-null   object \n",
      " 24  pets         6352 non-null   object \n",
      " 25  religion     6261 non-null   object \n",
      " 26  sex          9514 non-null   object \n",
      " 27  sign         7776 non-null   object \n",
      " 28  smokes       8596 non-null   object \n",
      " 29  speaks       9508 non-null   object \n",
      " 30  status       9514 non-null   object \n",
      "dtypes: float64(3), object(28)\n",
      "memory usage: 2.3+ MB\n"
     ]
    }
   ],
   "source": [
    "df.info()"
   ]
  },
  {
   "cell_type": "code",
   "execution_count": 7,
   "metadata": {},
   "outputs": [
    {
     "data": {
      "text/plain": [
       "(age\n",
       " 26.0     601\n",
       " 27.0     593\n",
       " 25.0     591\n",
       " 28.0     557\n",
       " 24.0     539\n",
       " 29.0     536\n",
       " 30.0     476\n",
       " 31.0     459\n",
       " 23.0     429\n",
       " 32.0     412\n",
       " 33.0     323\n",
       " 22.0     320\n",
       " 34.0     295\n",
       " 35.0     262\n",
       " 37.0     237\n",
       " 36.0     226\n",
       " 21.0     207\n",
       " 38.0     204\n",
       " 39.0     178\n",
       " 40.0     176\n",
       " 42.0     161\n",
       " 20.0     156\n",
       " 41.0     153\n",
       " 43.0     136\n",
       " 19.0     113\n",
       " 44.0     104\n",
       " 45.0      99\n",
       " 46.0      86\n",
       " 47.0      81\n",
       " 49.0      71\n",
       " 48.0      68\n",
       " 18.0      58\n",
       " 50.0      58\n",
       " 52.0      55\n",
       " 51.0      51\n",
       " 57.0      43\n",
       " 56.0      39\n",
       " 59.0      39\n",
       " 53.0      38\n",
       " 55.0      36\n",
       " 54.0      34\n",
       " 58.0      31\n",
       " 60.0      29\n",
       " 63.0      26\n",
       " 61.0      25\n",
       " 66.0      21\n",
       " 62.0      20\n",
       " 65.0      20\n",
       " 64.0      16\n",
       " 68.0      12\n",
       " 67.0       8\n",
       " 69.0       5\n",
       " 110.0      1\n",
       " Name: count, dtype: int64,\n",
       " count    9514.000000\n",
       " mean       32.084192\n",
       " std         9.445488\n",
       " min        18.000000\n",
       " 25%        25.000000\n",
       " 50%        30.000000\n",
       " 75%        36.000000\n",
       " max       110.000000\n",
       " Name: age, dtype: float64)"
      ]
     },
     "execution_count": 7,
     "metadata": {},
     "output_type": "execute_result"
    }
   ],
   "source": [
    "df.age.value_counts(), df.age.describe()"
   ]
  },
  {
   "cell_type": "markdown",
   "metadata": {},
   "source": [
    "## Essays are removed"
   ]
  },
  {
   "cell_type": "code",
   "execution_count": 8,
   "metadata": {},
   "outputs": [],
   "source": [
    "df.drop(['essay0', 'essay1', 'essay2', 'essay3', 'essay4', 'essay5', 'essay6', 'essay7', 'essay8', 'essay9'], axis=1, inplace=True)"
   ]
  },
  {
   "cell_type": "code",
   "execution_count": 9,
   "metadata": {},
   "outputs": [
    {
     "name": "stdout",
     "output_type": "stream",
     "text": [
      "<class 'pandas.core.frame.DataFrame'>\n",
      "RangeIndex: 9514 entries, 0 to 9513\n",
      "Data columns (total 21 columns):\n",
      " #   Column       Non-Null Count  Dtype  \n",
      "---  ------       --------------  -----  \n",
      " 0   age          9514 non-null   float64\n",
      " 1   body_type    8666 non-null   object \n",
      " 2   diet         5761 non-null   object \n",
      " 3   drinks       9012 non-null   object \n",
      " 4   drugs        7215 non-null   object \n",
      " 5   education    8459 non-null   object \n",
      " 6   ethnicity    8565 non-null   object \n",
      " 7   height       9514 non-null   float64\n",
      " 8   income       9514 non-null   float64\n",
      " 9   job          8183 non-null   object \n",
      " 10  last_online  9514 non-null   object \n",
      " 11  location     9514 non-null   object \n",
      " 12  offspring    3886 non-null   object \n",
      " 13  orientation  9514 non-null   object \n",
      " 14  pets         6352 non-null   object \n",
      " 15  religion     6261 non-null   object \n",
      " 16  sex          9514 non-null   object \n",
      " 17  sign         7776 non-null   object \n",
      " 18  smokes       8596 non-null   object \n",
      " 19  speaks       9508 non-null   object \n",
      " 20  status       9514 non-null   object \n",
      "dtypes: float64(3), object(18)\n",
      "memory usage: 1.5+ MB\n"
     ]
    }
   ],
   "source": [
    "df.info()"
   ]
  },
  {
   "cell_type": "code",
   "execution_count": 10,
   "metadata": {},
   "outputs": [
    {
     "data": {
      "text/plain": [
       "offspring      5628\n",
       "diet           3753\n",
       "religion       3253\n",
       "pets           3162\n",
       "drugs          2299\n",
       "sign           1738\n",
       "job            1331\n",
       "education      1055\n",
       "ethnicity       949\n",
       "smokes          918\n",
       "body_type       848\n",
       "drinks          502\n",
       "speaks            6\n",
       "age               0\n",
       "sex               0\n",
       "last_online       0\n",
       "orientation       0\n",
       "location          0\n",
       "income            0\n",
       "height            0\n",
       "status            0\n",
       "dtype: int64"
      ]
     },
     "execution_count": 10,
     "metadata": {},
     "output_type": "execute_result"
    }
   ],
   "source": [
    "df.isnull().sum().sort_values(ascending=False)"
   ]
  },
  {
   "cell_type": "markdown",
   "metadata": {},
   "source": [
    "# Missing values"
   ]
  },
  {
   "cell_type": "code",
   "execution_count": 11,
   "metadata": {},
   "outputs": [],
   "source": [
    "missing_columns = df.columns[df.isnull().any()]\n",
    "missing_columns\n",
    "#offspring column has too missing values, we can drop it\n",
    "missing_columns = missing_columns.drop('offspring')"
   ]
  },
  {
   "cell_type": "code",
   "execution_count": 12,
   "metadata": {},
   "outputs": [
    {
     "data": {
      "text/plain": [
       "offspring      5628\n",
       "age               0\n",
       "location          0\n",
       "speaks            0\n",
       "smokes            0\n",
       "sign              0\n",
       "sex               0\n",
       "religion          0\n",
       "pets              0\n",
       "orientation       0\n",
       "last_online       0\n",
       "body_type         0\n",
       "job               0\n",
       "income            0\n",
       "height            0\n",
       "ethnicity         0\n",
       "education         0\n",
       "drugs             0\n",
       "drinks            0\n",
       "diet              0\n",
       "status            0\n",
       "dtype: int64"
      ]
     },
     "execution_count": 12,
     "metadata": {},
     "output_type": "execute_result"
    }
   ],
   "source": [
    "for c in missing_columns:\n",
    "    #frequency \n",
    "    df[c] = df[c].fillna(pd.Series(np.random.choice(df[c].dropna().value_counts().index, size=df[c].isnull().sum(), p=df[c].dropna().value_counts(normalize=True)), index=df[df[c].isnull()].index))\n",
    "df.isnull().sum().sort_values(ascending=False)"
   ]
  },
  {
   "cell_type": "markdown",
   "metadata": {},
   "source": [
    "# Feature Engineering"
   ]
  },
  {
   "cell_type": "markdown",
   "metadata": {},
   "source": [
    "## offspring"
   ]
  },
  {
   "cell_type": "code",
   "execution_count": 13,
   "metadata": {},
   "outputs": [],
   "source": [
    "df[\"kid\"] = df[\"offspring\"].str.contains(\"has\", na=False).astype(int)"
   ]
  },
  {
   "cell_type": "code",
   "execution_count": 14,
   "metadata": {},
   "outputs": [],
   "source": [
    "del df[\"offspring\"]"
   ]
  },
  {
   "cell_type": "code",
   "execution_count": 15,
   "metadata": {},
   "outputs": [
    {
     "data": {
      "text/plain": [
       "age            0\n",
       "location       0\n",
       "status         0\n",
       "speaks         0\n",
       "smokes         0\n",
       "sign           0\n",
       "sex            0\n",
       "religion       0\n",
       "pets           0\n",
       "orientation    0\n",
       "last_online    0\n",
       "body_type      0\n",
       "job            0\n",
       "income         0\n",
       "height         0\n",
       "ethnicity      0\n",
       "education      0\n",
       "drugs          0\n",
       "drinks         0\n",
       "diet           0\n",
       "kid            0\n",
       "dtype: int64"
      ]
     },
     "execution_count": 15,
     "metadata": {},
     "output_type": "execute_result"
    }
   ],
   "source": [
    "df.isnull().sum().sort_values(ascending=False)"
   ]
  },
  {
   "cell_type": "markdown",
   "metadata": {},
   "source": [
    "## diet"
   ]
  },
  {
   "cell_type": "code",
   "execution_count": 16,
   "metadata": {},
   "outputs": [
    {
     "data": {
      "text/plain": [
       "(diet\n",
       " mostly anything        0.451545\n",
       " anything               0.187093\n",
       " strictly anything      0.144314\n",
       " mostly vegetarian      0.098276\n",
       " mostly other           0.029641\n",
       " strictly vegetarian    0.024280\n",
       " vegetarian             0.020496\n",
       " strictly other         0.010931\n",
       " mostly vegan           0.009880\n",
       " other                  0.008619\n",
       " strictly vegan         0.006201\n",
       " vegan                  0.003469\n",
       " mostly halal           0.001997\n",
       " mostly kosher          0.001892\n",
       " strictly halal         0.000631\n",
       " strictly kosher        0.000420\n",
       " kosher                 0.000210\n",
       " halal                  0.000105\n",
       " Name: proportion, dtype: float64,\n",
       " 0,\n",
       " array(['strictly anything', 'mostly other', 'anything', 'vegetarian',\n",
       "        'mostly anything', 'strictly other', 'strictly vegetarian',\n",
       "        'mostly vegetarian', 'strictly vegan', 'other', 'mostly vegan',\n",
       "        'mostly halal', 'vegan', 'mostly kosher', 'strictly halal',\n",
       "        'halal', 'strictly kosher', 'kosher'], dtype=object))"
      ]
     },
     "execution_count": 16,
     "metadata": {},
     "output_type": "execute_result"
    }
   ],
   "source": [
    "df.diet.value_counts(normalize=True), df.diet.isnull().sum(), df.diet.unique()"
   ]
  },
  {
   "cell_type": "code",
   "execution_count": 17,
   "metadata": {},
   "outputs": [],
   "source": [
    "df.loc[(df.diet.isnull()) & (df.drinks == 'not at all'), 'diet'] = 'halal'\n",
    "df['diet'] = df['diet'].replace({\n",
    "    'strictly anything': 'Anything',\n",
    "    'mostly anything': 'Anything',\n",
    "    'anything': 'Anything',\n",
    "    'strictly vegan': 'Vegan',\n",
    "    'mostly vegan': 'Vegan',\n",
    "    'vegan': 'Vegan',\n",
    "    'strictly vegetarian': 'Vegetarian',\n",
    "    'mostly vegetarian': 'Vegetarian',\n",
    "    'vegetarian': 'Vegetarian',\n",
    "    'strictly other': 'Other',\n",
    "    'mostly other': 'Other',\n",
    "    'other': 'Other',\n",
    "    'strictly halal': 'Halal',\n",
    "    'mostly halal': 'Halal',\n",
    "    'halal': 'Halal',\n",
    "    'strictly kosher': 'Kosher',\n",
    "    'mostly kosher': 'Kosher',\n",
    "    'kosher': 'Kosher'\n",
    "})"
   ]
  },
  {
   "cell_type": "code",
   "execution_count": 18,
   "metadata": {},
   "outputs": [
    {
     "data": {
      "text/plain": [
       "(diet\n",
       " Anything      0.782951\n",
       " Vegetarian    0.143052\n",
       " Other         0.049191\n",
       " Vegan         0.019550\n",
       " Halal         0.002733\n",
       " Kosher        0.002523\n",
       " Name: proportion, dtype: float64,\n",
       " 0,\n",
       " array(['Anything', 'Other', 'Vegetarian', 'Vegan', 'Halal', 'Kosher'],\n",
       "       dtype=object))"
      ]
     },
     "execution_count": 18,
     "metadata": {},
     "output_type": "execute_result"
    }
   ],
   "source": [
    "df.diet.value_counts(normalize=True), df.diet.isnull().sum(), df.diet.unique()"
   ]
  },
  {
   "cell_type": "markdown",
   "metadata": {},
   "source": [
    "## religion"
   ]
  },
  {
   "cell_type": "code",
   "execution_count": 19,
   "metadata": {},
   "outputs": [
    {
     "data": {
      "text/plain": [
       "(religion\n",
       " agnosticism                                   0.071474\n",
       " other                                         0.065903\n",
       " agnosticism but not too serious about it      0.064957\n",
       " agnosticism and laughing about it             0.061593\n",
       " catholicism but not too serious about it      0.059386\n",
       " atheism                                       0.058335\n",
       " other and laughing about it                   0.053605\n",
       " atheism and laughing about it                 0.051503\n",
       " christianity but not too serious about it     0.050872\n",
       " christianity                                  0.048140\n",
       " judaism but not too serious about it          0.037839\n",
       " other but not too serious about it            0.036998\n",
       " atheism but not too serious about it          0.032373\n",
       " catholicism                                   0.027118\n",
       " atheism and somewhat serious about it         0.022283\n",
       " other and somewhat serious about it           0.020496\n",
       " christianity and somewhat serious about it    0.020286\n",
       " catholicism and laughing about it             0.019340\n",
       " judaism and laughing about it                 0.017343\n",
       " agnosticism and somewhat serious about it     0.015976\n",
       " atheism and very serious about it             0.015766\n",
       " christianity and very serious about it        0.015661\n",
       " buddhism but not too serious about it         0.015661\n",
       " other and very serious about it               0.014610\n",
       " judaism                                       0.014505\n",
       " catholicism and somewhat serious about it     0.014400\n",
       " buddhism                                      0.010721\n",
       " christianity and laughing about it            0.009144\n",
       " buddhism and laughing about it                0.008619\n",
       " buddhism and somewhat serious about it        0.007988\n",
       " judaism and somewhat serious about it         0.007673\n",
       " agnosticism and very serious about it         0.007042\n",
       " hinduism but not too serious about it         0.006306\n",
       " catholicism and very serious about it         0.003574\n",
       " hinduism                                      0.002207\n",
       " islam                                         0.001787\n",
       " hinduism and laughing about it                0.001577\n",
       " hinduism and somewhat serious about it        0.001577\n",
       " buddhism and very serious about it            0.001577\n",
       " islam but not too serious about it            0.001472\n",
       " hinduism and very serious about it            0.000736\n",
       " islam and very serious about it               0.000526\n",
       " judaism and very serious about it             0.000526\n",
       " islam and somewhat serious about it           0.000420\n",
       " islam and laughing about it                   0.000105\n",
       " Name: proportion, dtype: float64,\n",
       " 0,\n",
       " array(['agnosticism and very serious about it',\n",
       "        'agnosticism but not too serious about it', 'agnosticism',\n",
       "        'catholicism and somewhat serious about it',\n",
       "        'other and laughing about it', 'atheism',\n",
       "        'judaism but not too serious about it', 'christianity',\n",
       "        'christianity but not too serious about it',\n",
       "        'atheism and laughing about it',\n",
       "        'christianity and very serious about it', 'other', 'catholicism',\n",
       "        'catholicism but not too serious about it',\n",
       "        'agnosticism and somewhat serious about it',\n",
       "        'buddhism and laughing about it',\n",
       "        'catholicism and laughing about it',\n",
       "        'agnosticism and laughing about it',\n",
       "        'atheism and somewhat serious about it',\n",
       "        'buddhism but not too serious about it', 'judaism',\n",
       "        'catholicism and very serious about it',\n",
       "        'other but not too serious about it',\n",
       "        'atheism and very serious about it',\n",
       "        'christianity and laughing about it', 'buddhism',\n",
       "        'other and somewhat serious about it',\n",
       "        'other and very serious about it',\n",
       "        'hinduism but not too serious about it',\n",
       "        'judaism and laughing about it',\n",
       "        'atheism but not too serious about it', 'hinduism',\n",
       "        'christianity and somewhat serious about it',\n",
       "        'hinduism and very serious about it',\n",
       "        'hinduism and laughing about it',\n",
       "        'buddhism and somewhat serious about it',\n",
       "        'islam and very serious about it', 'islam',\n",
       "        'hinduism and somewhat serious about it',\n",
       "        'judaism and somewhat serious about it',\n",
       "        'judaism and very serious about it',\n",
       "        'islam but not too serious about it',\n",
       "        'buddhism and very serious about it',\n",
       "        'islam and laughing about it',\n",
       "        'islam and somewhat serious about it'], dtype=object))"
      ]
     },
     "execution_count": 19,
     "metadata": {},
     "output_type": "execute_result"
    }
   ],
   "source": [
    "df.religion.value_counts(normalize=True), df.religion.isnull().sum(), df.religion.unique()"
   ]
  },
  {
   "cell_type": "code",
   "execution_count": 20,
   "metadata": {},
   "outputs": [],
   "source": [
    "religions = ['agnosticism', 'atheism', 'christianity', 'buddhism', 'judaism', 'hinduism', 'islam', 'other','catholicism']\n",
    "# Define the seriousness map\n",
    "seriousness_map = {\n",
    "    'very serious about it': 4,\n",
    "    'somewhat serious about it': 3,\n",
    "    'not too serious about it': 2,\n",
    "    'laughing about it': 1\n",
    "}\n",
    "\n",
    "# Update the 'religion' column to remove text after the religion type\n",
    "def extract_religion(x):\n",
    "    for religion in religions:\n",
    "        if x.startswith(religion):\n",
    "            return religion\n",
    "    return x\n",
    "\n",
    "df['religion'] = df['religion'].apply(extract_religion)\n",
    "\n",
    "# Update the 'religion_seriousness' column to keep the seriousness level\n",
    "df['religion_seriousness'] = df['religion'].apply(lambda x: \n",
    "                                                  seriousness_map[x.split(' and ')[-1]] if 'and' in x \n",
    "                                                  else seriousness_map[x.split(' but ')[-1]] if 'but' in x \n",
    "                                                  else 3)\n"
   ]
  },
  {
   "cell_type": "code",
   "execution_count": 21,
   "metadata": {},
   "outputs": [
    {
     "data": {
      "text/html": [
       "<div>\n",
       "<style scoped>\n",
       "    .dataframe tbody tr th:only-of-type {\n",
       "        vertical-align: middle;\n",
       "    }\n",
       "\n",
       "    .dataframe tbody tr th {\n",
       "        vertical-align: top;\n",
       "    }\n",
       "\n",
       "    .dataframe thead th {\n",
       "        text-align: right;\n",
       "    }\n",
       "</style>\n",
       "<table border=\"1\" class=\"dataframe\">\n",
       "  <thead>\n",
       "    <tr style=\"text-align: right;\">\n",
       "      <th></th>\n",
       "      <th>age</th>\n",
       "      <th>body_type</th>\n",
       "      <th>diet</th>\n",
       "      <th>drinks</th>\n",
       "      <th>drugs</th>\n",
       "      <th>education</th>\n",
       "      <th>ethnicity</th>\n",
       "      <th>height</th>\n",
       "      <th>income</th>\n",
       "      <th>job</th>\n",
       "      <th>last_online</th>\n",
       "      <th>location</th>\n",
       "      <th>orientation</th>\n",
       "      <th>pets</th>\n",
       "      <th>religion</th>\n",
       "      <th>sex</th>\n",
       "      <th>sign</th>\n",
       "      <th>smokes</th>\n",
       "      <th>speaks</th>\n",
       "      <th>status</th>\n",
       "      <th>kid</th>\n",
       "      <th>religion_seriousness</th>\n",
       "    </tr>\n",
       "  </thead>\n",
       "  <tbody>\n",
       "    <tr>\n",
       "      <th>8389</th>\n",
       "      <td>32.0</td>\n",
       "      <td>fit</td>\n",
       "      <td>Vegetarian</td>\n",
       "      <td>socially</td>\n",
       "      <td>never</td>\n",
       "      <td>graduated from college/university</td>\n",
       "      <td>indian</td>\n",
       "      <td>70.0</td>\n",
       "      <td>-1.0</td>\n",
       "      <td>banking / financial / real estate</td>\n",
       "      <td>2012-06-30-05-40</td>\n",
       "      <td>san francisco, california</td>\n",
       "      <td>straight</td>\n",
       "      <td>likes dogs and dislikes cats</td>\n",
       "      <td>other</td>\n",
       "      <td>m</td>\n",
       "      <td>aquarius</td>\n",
       "      <td>no</td>\n",
       "      <td>english (fluently), hindi (fluently)</td>\n",
       "      <td>single</td>\n",
       "      <td>0</td>\n",
       "      <td>3</td>\n",
       "    </tr>\n",
       "  </tbody>\n",
       "</table>\n",
       "</div>"
      ],
      "text/plain": [
       "       age body_type        diet    drinks  drugs  \\\n",
       "8389  32.0       fit  Vegetarian  socially  never   \n",
       "\n",
       "                              education ethnicity  height  income  \\\n",
       "8389  graduated from college/university    indian    70.0    -1.0   \n",
       "\n",
       "                                    job       last_online  \\\n",
       "8389  banking / financial / real estate  2012-06-30-05-40   \n",
       "\n",
       "                       location orientation                          pets  \\\n",
       "8389  san francisco, california    straight  likes dogs and dislikes cats   \n",
       "\n",
       "     religion sex      sign smokes                                speaks  \\\n",
       "8389    other   m  aquarius     no  english (fluently), hindi (fluently)   \n",
       "\n",
       "      status  kid  religion_seriousness  \n",
       "8389  single    0                     3  "
      ]
     },
     "execution_count": 21,
     "metadata": {},
     "output_type": "execute_result"
    }
   ],
   "source": [
    "df.sample()"
   ]
  },
  {
   "cell_type": "markdown",
   "metadata": {},
   "source": [
    "## Body Type"
   ]
  },
  {
   "cell_type": "markdown",
   "metadata": {},
   "source": [
    "* Dummy"
   ]
  },
  {
   "cell_type": "code",
   "execution_count": 22,
   "metadata": {},
   "outputs": [
    {
     "data": {
      "text/plain": [
       "(body_type\n",
       " average           0.260038\n",
       " fit               0.233551\n",
       " athletic          0.222409\n",
       " thin              0.085873\n",
       " curvy             0.070528\n",
       " a little extra    0.050872\n",
       " skinny            0.030061\n",
       " full figured      0.021968\n",
       " overweight        0.008304\n",
       " jacked            0.007358\n",
       " used up           0.005045\n",
       " rather not say    0.003994\n",
       " Name: proportion, dtype: float64,\n",
       " 0,\n",
       " array(['a little extra', 'average', 'thin', 'athletic', 'fit', 'skinny',\n",
       "        'curvy', 'full figured', 'jacked', 'rather not say', 'used up',\n",
       "        'overweight'], dtype=object))"
      ]
     },
     "execution_count": 22,
     "metadata": {},
     "output_type": "execute_result"
    }
   ],
   "source": [
    "df.body_type.value_counts(normalize=True), df.body_type.isnull().sum(), df.body_type.unique()"
   ]
  },
  {
   "cell_type": "code",
   "execution_count": 23,
   "metadata": {},
   "outputs": [
    {
     "data": {
      "text/plain": [
       "(body_type\n",
       " fit           0.455960\n",
       " average       0.267395\n",
       " thin          0.115934\n",
       " curvy         0.092495\n",
       " overweight    0.059176\n",
       " other         0.009039\n",
       " Name: proportion, dtype: float64,\n",
       " 0,\n",
       " array(['overweight', 'average', 'thin', 'fit', 'curvy', 'other'],\n",
       "       dtype=object))"
      ]
     },
     "execution_count": 23,
     "metadata": {},
     "output_type": "execute_result"
    }
   ],
   "source": [
    "df.body_type.replace({\n",
    "    'overweight': \"overweight\",\n",
    "    'full figured': \"curvy\",\n",
    "    'a little extra': \"overweight\",\n",
    "    'curvy': \"curvy\",\n",
    "    'average': \"average\",\n",
    "    'fit': \"fit\",\n",
    "    'athletic': \"fit\",\n",
    "    'thin': \"thin\",\n",
    "    'skinny': \"thin\",\n",
    "    'jacked': \"average\",\n",
    "    'used up': \"other\",\n",
    "    'rather not say': \"other\"\n",
    "}, inplace=True)\n",
    "df.body_type.value_counts(normalize=True), df.body_type.isnull().sum(), df.body_type.unique()"
   ]
  },
  {
   "cell_type": "code",
   "execution_count": 24,
   "metadata": {},
   "outputs": [
    {
     "data": {
      "text/html": [
       "<div>\n",
       "<style scoped>\n",
       "    .dataframe tbody tr th:only-of-type {\n",
       "        vertical-align: middle;\n",
       "    }\n",
       "\n",
       "    .dataframe tbody tr th {\n",
       "        vertical-align: top;\n",
       "    }\n",
       "\n",
       "    .dataframe thead th {\n",
       "        text-align: right;\n",
       "    }\n",
       "</style>\n",
       "<table border=\"1\" class=\"dataframe\">\n",
       "  <thead>\n",
       "    <tr style=\"text-align: right;\">\n",
       "      <th></th>\n",
       "      <th>age</th>\n",
       "      <th>body_type</th>\n",
       "      <th>diet</th>\n",
       "      <th>drinks</th>\n",
       "      <th>drugs</th>\n",
       "      <th>education</th>\n",
       "      <th>ethnicity</th>\n",
       "      <th>height</th>\n",
       "      <th>income</th>\n",
       "      <th>job</th>\n",
       "      <th>last_online</th>\n",
       "      <th>location</th>\n",
       "      <th>orientation</th>\n",
       "      <th>pets</th>\n",
       "      <th>religion</th>\n",
       "      <th>sex</th>\n",
       "      <th>sign</th>\n",
       "      <th>smokes</th>\n",
       "      <th>speaks</th>\n",
       "      <th>status</th>\n",
       "      <th>kid</th>\n",
       "      <th>religion_seriousness</th>\n",
       "    </tr>\n",
       "  </thead>\n",
       "  <tbody>\n",
       "    <tr>\n",
       "      <th>9364</th>\n",
       "      <td>50.0</td>\n",
       "      <td>overweight</td>\n",
       "      <td>Anything</td>\n",
       "      <td>socially</td>\n",
       "      <td>never</td>\n",
       "      <td>graduated from college/university</td>\n",
       "      <td>white</td>\n",
       "      <td>65.0</td>\n",
       "      <td>-1.0</td>\n",
       "      <td>executive / management</td>\n",
       "      <td>2012-01-02-21-51</td>\n",
       "      <td>lafayette, california</td>\n",
       "      <td>gay</td>\n",
       "      <td>has dogs and has cats</td>\n",
       "      <td>other</td>\n",
       "      <td>f</td>\n",
       "      <td>capricorn and it&amp;rsquo;s fun to think about</td>\n",
       "      <td>no</td>\n",
       "      <td>english</td>\n",
       "      <td>single</td>\n",
       "      <td>1</td>\n",
       "      <td>3</td>\n",
       "    </tr>\n",
       "  </tbody>\n",
       "</table>\n",
       "</div>"
      ],
      "text/plain": [
       "       age   body_type      diet    drinks  drugs  \\\n",
       "9364  50.0  overweight  Anything  socially  never   \n",
       "\n",
       "                              education ethnicity  height  income  \\\n",
       "9364  graduated from college/university     white    65.0    -1.0   \n",
       "\n",
       "                         job       last_online               location  \\\n",
       "9364  executive / management  2012-01-02-21-51  lafayette, california   \n",
       "\n",
       "     orientation                   pets religion sex  \\\n",
       "9364         gay  has dogs and has cats    other   f   \n",
       "\n",
       "                                             sign smokes   speaks  status  \\\n",
       "9364  capricorn and it&rsquo;s fun to think about     no  english  single   \n",
       "\n",
       "      kid  religion_seriousness  \n",
       "9364    1                     3  "
      ]
     },
     "execution_count": 24,
     "metadata": {},
     "output_type": "execute_result"
    }
   ],
   "source": [
    "df.sample()"
   ]
  },
  {
   "cell_type": "markdown",
   "metadata": {},
   "source": [
    "## Drinks "
   ]
  },
  {
   "cell_type": "markdown",
   "metadata": {},
   "source": [
    "* onehot"
   ]
  },
  {
   "cell_type": "code",
   "execution_count": 25,
   "metadata": {},
   "outputs": [
    {
     "data": {
      "text/plain": [
       "(drinks\n",
       " socially       0.740698\n",
       " rarely         0.100589\n",
       " often          0.090078\n",
       " not at all     0.056758\n",
       " very often     0.006412\n",
       " desperately    0.005466\n",
       " Name: proportion, dtype: float64,\n",
       " 0,\n",
       " array(['socially', 'often', 'not at all', 'rarely', 'very often',\n",
       "        'desperately'], dtype=object))"
      ]
     },
     "execution_count": 25,
     "metadata": {},
     "output_type": "execute_result"
    }
   ],
   "source": [
    "df.drinks.value_counts(normalize=True), df.drinks.isnull().sum(), df.drinks.unique()"
   ]
  },
  {
   "cell_type": "code",
   "execution_count": 26,
   "metadata": {},
   "outputs": [],
   "source": [
    "# encode with risen values\n",
    "df.drinks.replace({'not at all': 0, 'rarely': 1, 'socially': 2, 'often': 3, 'very often': 4, 'desperately': 4}, inplace=True)"
   ]
  },
  {
   "cell_type": "code",
   "execution_count": 27,
   "metadata": {},
   "outputs": [
    {
     "data": {
      "text/html": [
       "<div>\n",
       "<style scoped>\n",
       "    .dataframe tbody tr th:only-of-type {\n",
       "        vertical-align: middle;\n",
       "    }\n",
       "\n",
       "    .dataframe tbody tr th {\n",
       "        vertical-align: top;\n",
       "    }\n",
       "\n",
       "    .dataframe thead th {\n",
       "        text-align: right;\n",
       "    }\n",
       "</style>\n",
       "<table border=\"1\" class=\"dataframe\">\n",
       "  <thead>\n",
       "    <tr style=\"text-align: right;\">\n",
       "      <th></th>\n",
       "      <th>age</th>\n",
       "      <th>body_type</th>\n",
       "      <th>diet</th>\n",
       "      <th>drinks</th>\n",
       "      <th>drugs</th>\n",
       "      <th>education</th>\n",
       "      <th>ethnicity</th>\n",
       "      <th>height</th>\n",
       "      <th>income</th>\n",
       "      <th>job</th>\n",
       "      <th>last_online</th>\n",
       "      <th>location</th>\n",
       "      <th>orientation</th>\n",
       "      <th>pets</th>\n",
       "      <th>religion</th>\n",
       "      <th>sex</th>\n",
       "      <th>sign</th>\n",
       "      <th>smokes</th>\n",
       "      <th>speaks</th>\n",
       "      <th>status</th>\n",
       "      <th>kid</th>\n",
       "      <th>religion_seriousness</th>\n",
       "    </tr>\n",
       "  </thead>\n",
       "  <tbody>\n",
       "    <tr>\n",
       "      <th>6850</th>\n",
       "      <td>27.0</td>\n",
       "      <td>average</td>\n",
       "      <td>Anything</td>\n",
       "      <td>2</td>\n",
       "      <td>never</td>\n",
       "      <td>graduated from college/university</td>\n",
       "      <td>white</td>\n",
       "      <td>72.0</td>\n",
       "      <td>40000.0</td>\n",
       "      <td>construction / craftsmanship</td>\n",
       "      <td>2012-06-30-00-40</td>\n",
       "      <td>san leandro, california</td>\n",
       "      <td>straight</td>\n",
       "      <td>has dogs and likes cats</td>\n",
       "      <td>atheism</td>\n",
       "      <td>m</td>\n",
       "      <td>scorpio but it doesn&amp;rsquo;t matter</td>\n",
       "      <td>no</td>\n",
       "      <td>english</td>\n",
       "      <td>single</td>\n",
       "      <td>0</td>\n",
       "      <td>3</td>\n",
       "    </tr>\n",
       "  </tbody>\n",
       "</table>\n",
       "</div>"
      ],
      "text/plain": [
       "       age body_type      diet  drinks  drugs  \\\n",
       "6850  27.0   average  Anything       2  never   \n",
       "\n",
       "                              education ethnicity  height   income  \\\n",
       "6850  graduated from college/university     white    72.0  40000.0   \n",
       "\n",
       "                               job       last_online                 location  \\\n",
       "6850  construction / craftsmanship  2012-06-30-00-40  san leandro, california   \n",
       "\n",
       "     orientation                     pets religion sex  \\\n",
       "6850    straight  has dogs and likes cats  atheism   m   \n",
       "\n",
       "                                     sign smokes   speaks  status  kid  \\\n",
       "6850  scorpio but it doesn&rsquo;t matter     no  english  single    0   \n",
       "\n",
       "      religion_seriousness  \n",
       "6850                     3  "
      ]
     },
     "execution_count": 27,
     "metadata": {},
     "output_type": "execute_result"
    }
   ],
   "source": [
    "df.sample()"
   ]
  },
  {
   "cell_type": "markdown",
   "metadata": {},
   "source": [
    "## Drugs"
   ]
  },
  {
   "cell_type": "markdown",
   "metadata": {},
   "source": [
    "* onehot"
   ]
  },
  {
   "cell_type": "code",
   "execution_count": 28,
   "metadata": {},
   "outputs": [
    {
     "data": {
      "text/plain": [
       "(drugs\n",
       " never        0.827097\n",
       " sometimes    0.164494\n",
       " often        0.008409\n",
       " Name: proportion, dtype: float64,\n",
       " 0,\n",
       " array(['never', 'sometimes', 'often'], dtype=object))"
      ]
     },
     "execution_count": 28,
     "metadata": {},
     "output_type": "execute_result"
    }
   ],
   "source": [
    "df.drugs.value_counts(normalize=True), df.drugs.isnull().sum(), df.drugs.unique()"
   ]
  },
  {
   "cell_type": "code",
   "execution_count": 29,
   "metadata": {},
   "outputs": [],
   "source": [
    "df.replace({'drugs': {'never': 0, 'sometimes': 1, 'often': 2}}, inplace=True)"
   ]
  },
  {
   "cell_type": "code",
   "execution_count": 30,
   "metadata": {},
   "outputs": [
    {
     "data": {
      "text/html": [
       "<div>\n",
       "<style scoped>\n",
       "    .dataframe tbody tr th:only-of-type {\n",
       "        vertical-align: middle;\n",
       "    }\n",
       "\n",
       "    .dataframe tbody tr th {\n",
       "        vertical-align: top;\n",
       "    }\n",
       "\n",
       "    .dataframe thead th {\n",
       "        text-align: right;\n",
       "    }\n",
       "</style>\n",
       "<table border=\"1\" class=\"dataframe\">\n",
       "  <thead>\n",
       "    <tr style=\"text-align: right;\">\n",
       "      <th></th>\n",
       "      <th>age</th>\n",
       "      <th>body_type</th>\n",
       "      <th>diet</th>\n",
       "      <th>drinks</th>\n",
       "      <th>drugs</th>\n",
       "      <th>education</th>\n",
       "      <th>ethnicity</th>\n",
       "      <th>height</th>\n",
       "      <th>income</th>\n",
       "      <th>job</th>\n",
       "      <th>last_online</th>\n",
       "      <th>location</th>\n",
       "      <th>orientation</th>\n",
       "      <th>pets</th>\n",
       "      <th>religion</th>\n",
       "      <th>sex</th>\n",
       "      <th>sign</th>\n",
       "      <th>smokes</th>\n",
       "      <th>speaks</th>\n",
       "      <th>status</th>\n",
       "      <th>kid</th>\n",
       "      <th>religion_seriousness</th>\n",
       "    </tr>\n",
       "  </thead>\n",
       "  <tbody>\n",
       "    <tr>\n",
       "      <th>4485</th>\n",
       "      <td>25.0</td>\n",
       "      <td>average</td>\n",
       "      <td>Anything</td>\n",
       "      <td>2</td>\n",
       "      <td>0</td>\n",
       "      <td>graduated from college/university</td>\n",
       "      <td>white</td>\n",
       "      <td>76.0</td>\n",
       "      <td>-1.0</td>\n",
       "      <td>banking / financial / real estate</td>\n",
       "      <td>2012-06-29-23-10</td>\n",
       "      <td>san francisco, california</td>\n",
       "      <td>straight</td>\n",
       "      <td>likes dogs and likes cats</td>\n",
       "      <td>judaism</td>\n",
       "      <td>m</td>\n",
       "      <td>aries and it&amp;rsquo;s fun to think about</td>\n",
       "      <td>no</td>\n",
       "      <td>english, spanish (okay)</td>\n",
       "      <td>single</td>\n",
       "      <td>0</td>\n",
       "      <td>3</td>\n",
       "    </tr>\n",
       "  </tbody>\n",
       "</table>\n",
       "</div>"
      ],
      "text/plain": [
       "       age body_type      diet  drinks  drugs  \\\n",
       "4485  25.0   average  Anything       2      0   \n",
       "\n",
       "                              education ethnicity  height  income  \\\n",
       "4485  graduated from college/university     white    76.0    -1.0   \n",
       "\n",
       "                                    job       last_online  \\\n",
       "4485  banking / financial / real estate  2012-06-29-23-10   \n",
       "\n",
       "                       location orientation                       pets  \\\n",
       "4485  san francisco, california    straight  likes dogs and likes cats   \n",
       "\n",
       "     religion sex                                     sign smokes  \\\n",
       "4485  judaism   m  aries and it&rsquo;s fun to think about     no   \n",
       "\n",
       "                       speaks  status  kid  religion_seriousness  \n",
       "4485  english, spanish (okay)  single    0                     3  "
      ]
     },
     "execution_count": 30,
     "metadata": {},
     "output_type": "execute_result"
    }
   ],
   "source": [
    "df.sample()"
   ]
  },
  {
   "cell_type": "markdown",
   "metadata": {},
   "source": [
    "## Education"
   ]
  },
  {
   "cell_type": "code",
   "execution_count": 31,
   "metadata": {},
   "outputs": [
    {
     "data": {
      "text/plain": [
       "(education\n",
       " graduated from college/university    0.447236\n",
       " graduated from masters program       0.164705\n",
       " working on college/university        0.114568\n",
       " working on masters program           0.029956\n",
       " graduated from two-year college      0.029535\n",
       " graduated from high school           0.024175\n",
       " graduated from ph.d program          0.023965\n",
       " graduated from law school            0.020601\n",
       " working on two-year college          0.018919\n",
       " working on ph.d program              0.018709\n",
       " dropped out of college/university    0.016817\n",
       " college/university                   0.015976\n",
       " graduated from space camp            0.012193\n",
       " dropped out of space camp            0.010196\n",
       " working on space camp                0.009039\n",
       " graduated from med school            0.008934\n",
       " working on law school                0.006201\n",
       " two-year college                     0.004940\n",
       " working on med school                0.004835\n",
       " dropped out of two-year college      0.003889\n",
       " masters program                      0.002417\n",
       " working on high school               0.002312\n",
       " dropped out of ph.d program          0.002207\n",
       " dropped out of masters program       0.001787\n",
       " high school                          0.001577\n",
       " dropped out of high school           0.001366\n",
       " space camp                           0.001156\n",
       " ph.d program                         0.000736\n",
       " law school                           0.000526\n",
       " dropped out of law school            0.000315\n",
       " dropped out of med school            0.000210\n",
       " Name: proportion, dtype: float64,\n",
       " 0,\n",
       " array(['working on college/university', 'working on space camp',\n",
       "        'graduated from masters program',\n",
       "        'graduated from college/university', 'working on two-year college',\n",
       "        'graduated from high school', 'working on masters program',\n",
       "        'graduated from space camp', 'college/university',\n",
       "        'dropped out of space camp', 'dropped out of college/university',\n",
       "        'graduated from ph.d program', 'graduated from law school',\n",
       "        'working on ph.d program', 'two-year college',\n",
       "        'graduated from two-year college', 'working on med school',\n",
       "        'working on law school', 'space camp', 'graduated from med school',\n",
       "        'dropped out of high school', 'working on high school',\n",
       "        'masters program', 'dropped out of ph.d program',\n",
       "        'dropped out of two-year college', 'dropped out of med school',\n",
       "        'high school', 'law school', 'dropped out of masters program',\n",
       "        'ph.d program', 'dropped out of law school'], dtype=object))"
      ]
     },
     "execution_count": 31,
     "metadata": {},
     "output_type": "execute_result"
    }
   ],
   "source": [
    "df.education.value_counts(normalize=True), df.education.isnull().sum(), df.education.unique()"
   ]
  },
  {
   "cell_type": "code",
   "execution_count": 32,
   "metadata": {},
   "outputs": [
    {
     "data": {
      "text/plain": [
       "(education\n",
       " Graduated                   0.758671\n",
       " Working on Education        0.204541\n",
       " Dropped out of Education    0.036788\n",
       " Name: proportion, dtype: float64,\n",
       " 0,\n",
       " array(['Working on Education', 'Graduated', 'Dropped out of Education'],\n",
       "       dtype=object))"
      ]
     },
     "execution_count": 32,
     "metadata": {},
     "output_type": "execute_result"
    }
   ],
   "source": [
    "df['education'] = df['education'].replace({\n",
    "    'working on college/university': 'Working on Education',\n",
    "    'working on space camp': 'Working on Education',\n",
    "    'graduated from masters program': 'Graduated',\n",
    "    'graduated from college/university': 'Graduated',\n",
    "    'working on two-year college': 'Working on Education',\n",
    "    'graduated from high school': 'Graduated',\n",
    "    'working on masters program': 'Working on Education',\n",
    "    'graduated from space camp': 'Graduated',\n",
    "    'college/university': 'Graduated',\n",
    "    'dropped out of space camp': 'Dropped out of Education',\n",
    "    'graduated from ph.d program': 'Graduated',\n",
    "    'graduated from law school': 'Graduated',\n",
    "    'working on ph.d program': 'Working on Education',\n",
    "    'two-year college': 'Graduated',\n",
    "    'graduated from two-year college': 'Graduated',\n",
    "    'working on med school': 'Working on Education',\n",
    "    'dropped out of college/university': 'Dropped out of Education',\n",
    "    'space camp': 'Graduated',\n",
    "    'graduated from med school': 'Graduated',\n",
    "    'dropped out of high school': 'Dropped out of Education',\n",
    "    'working on high school': 'Working on Education',\n",
    "    'masters program': 'Graduated',\n",
    "    'dropped out of ph.d program': 'Dropped out of Education',\n",
    "    'dropped out of two-year college': 'Dropped out of Education',\n",
    "    'dropped out of med school': 'Dropped out of Education',\n",
    "    'high school': 'Graduated',\n",
    "    'working on law school': 'Working on Education',\n",
    "    'law school': 'Graduated',\n",
    "    'dropped out of masters program': 'Dropped out of Education',\n",
    "    'ph.d program': 'Graduated',\n",
    "    'dropped out of law school': 'Dropped out of Education'\n",
    "})\n",
    "df.education.value_counts(normalize=True), df.education.isnull().sum(), df.education.unique()"
   ]
  },
  {
   "cell_type": "code",
   "execution_count": 33,
   "metadata": {},
   "outputs": [
    {
     "data": {
      "text/html": [
       "<div>\n",
       "<style scoped>\n",
       "    .dataframe tbody tr th:only-of-type {\n",
       "        vertical-align: middle;\n",
       "    }\n",
       "\n",
       "    .dataframe tbody tr th {\n",
       "        vertical-align: top;\n",
       "    }\n",
       "\n",
       "    .dataframe thead th {\n",
       "        text-align: right;\n",
       "    }\n",
       "</style>\n",
       "<table border=\"1\" class=\"dataframe\">\n",
       "  <thead>\n",
       "    <tr style=\"text-align: right;\">\n",
       "      <th></th>\n",
       "      <th>age</th>\n",
       "      <th>body_type</th>\n",
       "      <th>diet</th>\n",
       "      <th>drinks</th>\n",
       "      <th>drugs</th>\n",
       "      <th>education</th>\n",
       "      <th>ethnicity</th>\n",
       "      <th>height</th>\n",
       "      <th>income</th>\n",
       "      <th>job</th>\n",
       "      <th>last_online</th>\n",
       "      <th>location</th>\n",
       "      <th>orientation</th>\n",
       "      <th>pets</th>\n",
       "      <th>religion</th>\n",
       "      <th>sex</th>\n",
       "      <th>sign</th>\n",
       "      <th>smokes</th>\n",
       "      <th>speaks</th>\n",
       "      <th>status</th>\n",
       "      <th>kid</th>\n",
       "      <th>religion_seriousness</th>\n",
       "    </tr>\n",
       "  </thead>\n",
       "  <tbody>\n",
       "    <tr>\n",
       "      <th>6657</th>\n",
       "      <td>29.0</td>\n",
       "      <td>fit</td>\n",
       "      <td>Anything</td>\n",
       "      <td>2</td>\n",
       "      <td>1</td>\n",
       "      <td>Dropped out of Education</td>\n",
       "      <td>white</td>\n",
       "      <td>80.0</td>\n",
       "      <td>100000.0</td>\n",
       "      <td>science / tech / engineering</td>\n",
       "      <td>2012-06-27-22-57</td>\n",
       "      <td>san francisco, california</td>\n",
       "      <td>straight</td>\n",
       "      <td>likes dogs and likes cats</td>\n",
       "      <td>other</td>\n",
       "      <td>m</td>\n",
       "      <td>cancer but it doesn&amp;rsquo;t matter</td>\n",
       "      <td>no</td>\n",
       "      <td>english (okay), lisp (fluently)</td>\n",
       "      <td>single</td>\n",
       "      <td>0</td>\n",
       "      <td>3</td>\n",
       "    </tr>\n",
       "  </tbody>\n",
       "</table>\n",
       "</div>"
      ],
      "text/plain": [
       "       age body_type      diet  drinks  drugs                 education  \\\n",
       "6657  29.0       fit  Anything       2      1  Dropped out of Education   \n",
       "\n",
       "     ethnicity  height    income                           job  \\\n",
       "6657     white    80.0  100000.0  science / tech / engineering   \n",
       "\n",
       "           last_online                   location orientation  \\\n",
       "6657  2012-06-27-22-57  san francisco, california    straight   \n",
       "\n",
       "                           pets religion sex  \\\n",
       "6657  likes dogs and likes cats    other   m   \n",
       "\n",
       "                                    sign smokes  \\\n",
       "6657  cancer but it doesn&rsquo;t matter     no   \n",
       "\n",
       "                               speaks  status  kid  religion_seriousness  \n",
       "6657  english (okay), lisp (fluently)  single    0                     3  "
      ]
     },
     "execution_count": 33,
     "metadata": {},
     "output_type": "execute_result"
    }
   ],
   "source": [
    "df.sample()"
   ]
  },
  {
   "cell_type": "markdown",
   "metadata": {},
   "source": [
    "## Ethnicity"
   ]
  },
  {
   "cell_type": "markdown",
   "metadata": {},
   "source": [
    "* 112 different type input"
   ]
  },
  {
   "cell_type": "code",
   "execution_count": 34,
   "metadata": {},
   "outputs": [
    {
     "data": {
      "text/plain": [
       "(ethnicity\n",
       " white                                                     0.613412\n",
       " asian                                                     0.101640\n",
       " hispanic / latin                                          0.050242\n",
       " black                                                     0.038995\n",
       " other                                                     0.037103\n",
       "                                                             ...   \n",
       " asian, middle eastern, indian                             0.000105\n",
       " asian, middle eastern, white                              0.000105\n",
       " asian, black, native american, hispanic / latin, white    0.000105\n",
       " middle eastern, indian, other                             0.000105\n",
       " middle eastern, hispanic / latin, white, other            0.000105\n",
       " Name: proportion, Length: 112, dtype: float64,\n",
       " 0,\n",
       " array(['asian, white', 'white', 'asian, black, other', 'white, other',\n",
       "        'hispanic / latin, white', 'hispanic / latin',\n",
       "        'pacific islander, white', 'asian', 'black, white',\n",
       "        'pacific islander', 'asian, native american', 'black',\n",
       "        'asian, pacific islander', 'black, native american, white',\n",
       "        'middle eastern, other', 'native american, white', 'indian',\n",
       "        'black, native american, hispanic / latin, other',\n",
       "        'black, native american, hispanic / latin',\n",
       "        'asian, black, pacific islander',\n",
       "        'asian, middle eastern, black, native american, indian, pacific islander, hispanic / latin, white, other',\n",
       "        'other', 'hispanic / latin, other', 'asian, black',\n",
       "        'middle eastern, white', 'native american, white, other',\n",
       "        'black, native american', 'hispanic / latin, white, other',\n",
       "        'black, white, other', 'middle eastern', 'black, other',\n",
       "        'native american, hispanic / latin, white', 'black, indian',\n",
       "        'indian, white, other', 'middle eastern, indian, other',\n",
       "        'black, native american, hispanic / latin, white, other',\n",
       "        'pacific islander, hispanic / latin',\n",
       "        'black, hispanic / latin, white', 'native american',\n",
       "        'indian, white', 'asian, white, other', 'black, hispanic / latin',\n",
       "        'asian, hispanic / latin, white',\n",
       "        'middle eastern, hispanic / latin',\n",
       "        'asian, black, native american, pacific islander, white',\n",
       "        'middle eastern, indian', 'asian, indian',\n",
       "        'pacific islander, other', 'black, native american, white, other',\n",
       "        'middle eastern, white, other', 'black, pacific islander',\n",
       "        'middle eastern, native american, white',\n",
       "        'asian, native american, white, other',\n",
       "        'asian, pacific islander, white',\n",
       "        'pacific islander, hispanic / latin, white', 'indian, other',\n",
       "        'asian, pacific islander, other', 'black, hispanic / latin, other',\n",
       "        'asian, black, native american',\n",
       "        'black, native american, hispanic / latin, white',\n",
       "        'native american, hispanic / latin', 'indian, hispanic / latin',\n",
       "        'native american, pacific islander',\n",
       "        'asian, black, native american, hispanic / latin, white',\n",
       "        'asian, black, white',\n",
       "        'asian, black, native american, pacific islander, other',\n",
       "        'middle eastern, hispanic / latin, white',\n",
       "        'asian, native american, hispanic / latin, white, other',\n",
       "        'asian, other', 'asian, hispanic / latin',\n",
       "        'asian, pacific islander, white, other',\n",
       "        'asian, pacific islander, hispanic / latin',\n",
       "        'black, native american, indian, other',\n",
       "        'native american, hispanic / latin, white, other',\n",
       "        'black, native american, other',\n",
       "        'middle eastern, hispanic / latin, other',\n",
       "        'pacific islander, hispanic / latin, white, other',\n",
       "        'asian, black, hispanic / latin',\n",
       "        'asian, pacific islander, hispanic / latin, white',\n",
       "        'asian, black, native american, white',\n",
       "        'asian, middle eastern, white, other',\n",
       "        'native american, pacific islander, hispanic / latin',\n",
       "        'asian, native american, white',\n",
       "        'native american, pacific islander, hispanic / latin, white, other',\n",
       "        'indian, pacific islander', 'asian, middle eastern, black',\n",
       "        'asian, middle eastern, indian', 'asian, middle eastern, white',\n",
       "        'pacific islander, white, other',\n",
       "        'black, pacific islander, hispanic / latin',\n",
       "        'asian, middle eastern', 'asian, hispanic / latin, other',\n",
       "        'middle eastern, black, native american, indian, white, other',\n",
       "        'middle eastern, pacific islander, other', 'middle eastern, black',\n",
       "        'asian, indian, pacific islander',\n",
       "        'black, native american, pacific islander',\n",
       "        'native american, indian',\n",
       "        'asian, middle eastern, black, native american, indian, pacific islander, hispanic / latin, white',\n",
       "        'black, indian, other',\n",
       "        'asian, middle eastern, indian, hispanic / latin, white, other',\n",
       "        'middle eastern, black, white',\n",
       "        'asian, hispanic / latin, white, other',\n",
       "        'native american, hispanic / latin, other',\n",
       "        'middle eastern, black, pacific islander, white',\n",
       "        'asian, black, native american, hispanic / latin',\n",
       "        'native american, other', 'black, indian, white',\n",
       "        'asian, native american, hispanic / latin, white',\n",
       "        'black, native american, indian, white',\n",
       "        'middle eastern, black, indian, pacific islander, hispanic / latin, white',\n",
       "        'middle eastern, hispanic / latin, white, other'], dtype=object))"
      ]
     },
     "execution_count": 34,
     "metadata": {},
     "output_type": "execute_result"
    }
   ],
   "source": [
    "df.ethnicity.value_counts(normalize=True), df.ethnicity.isnull().sum() , df.ethnicity.unique()"
   ]
  },
  {
   "cell_type": "code",
   "execution_count": 35,
   "metadata": {},
   "outputs": [
    {
     "data": {
      "text/plain": [
       "{'asian': 1283,\n",
       " 'white': 6723,\n",
       " 'black': 609,\n",
       " 'other': 675,\n",
       " 'hispanic': 907,\n",
       " 'latin': 907,\n",
       " 'pacific': 222,\n",
       " 'islander': 222,\n",
       " 'native': 214,\n",
       " 'american': 214,\n",
       " 'middle': 173,\n",
       " 'eastern': 173,\n",
       " 'indian': 274}"
      ]
     },
     "execution_count": 35,
     "metadata": {},
     "output_type": "execute_result"
    }
   ],
   "source": [
    "import re\n",
    "eth = \" \".join(df.ethnicity.dropna())\n",
    "# delete punctuation\n",
    "eth = re.sub(r'[^\\w\\s]', '', eth)\n",
    "\n",
    "eth = eth.split()\n",
    "from collections import Counter\n",
    "eth = dict(Counter(eth))\n",
    "eth"
   ]
  },
  {
   "cell_type": "markdown",
   "metadata": {},
   "source": [
    "* Define a function to remove punctuation from a string.\n",
    "* Apply this function to the ethnicity column of the DataFrame."
   ]
  },
  {
   "cell_type": "code",
   "execution_count": 36,
   "metadata": {},
   "outputs": [],
   "source": [
    "# Function to remove punctuation from a string\n",
    "import string \n",
    "def remove_punctuation(text):\n",
    "    return text.translate(str.maketrans('', '', string.punctuation))\n",
    "\n",
    "# Apply the function to the 'ethnicity' column\n",
    "df['ethnicity'] = df['ethnicity'].apply(remove_punctuation)\n"
   ]
  },
  {
   "cell_type": "code",
   "execution_count": 37,
   "metadata": {},
   "outputs": [
    {
     "data": {
      "text/plain": [
       "(ethnicity\n",
       " white                                                0.613412\n",
       " asian                                                0.101640\n",
       " hispanic  latin                                      0.050242\n",
       " black                                                0.038995\n",
       " other                                                0.037103\n",
       "                                                        ...   \n",
       " asian middle eastern indian                          0.000105\n",
       " asian middle eastern white                           0.000105\n",
       " asian black native american hispanic  latin white    0.000105\n",
       " middle eastern indian other                          0.000105\n",
       " middle eastern hispanic  latin white other           0.000105\n",
       " Name: proportion, Length: 112, dtype: float64,\n",
       " 0,\n",
       " array(['asian white', 'white', 'asian black other', 'white other',\n",
       "        'hispanic  latin white', 'hispanic  latin',\n",
       "        'pacific islander white', 'asian', 'black white',\n",
       "        'pacific islander', 'asian native american', 'black',\n",
       "        'asian pacific islander', 'black native american white',\n",
       "        'middle eastern other', 'native american white', 'indian',\n",
       "        'black native american hispanic  latin other',\n",
       "        'black native american hispanic  latin',\n",
       "        'asian black pacific islander',\n",
       "        'asian middle eastern black native american indian pacific islander hispanic  latin white other',\n",
       "        'other', 'hispanic  latin other', 'asian black',\n",
       "        'middle eastern white', 'native american white other',\n",
       "        'black native american', 'hispanic  latin white other',\n",
       "        'black white other', 'middle eastern', 'black other',\n",
       "        'native american hispanic  latin white', 'black indian',\n",
       "        'indian white other', 'middle eastern indian other',\n",
       "        'black native american hispanic  latin white other',\n",
       "        'pacific islander hispanic  latin', 'black hispanic  latin white',\n",
       "        'native american', 'indian white', 'asian white other',\n",
       "        'black hispanic  latin', 'asian hispanic  latin white',\n",
       "        'middle eastern hispanic  latin',\n",
       "        'asian black native american pacific islander white',\n",
       "        'middle eastern indian', 'asian indian', 'pacific islander other',\n",
       "        'black native american white other', 'middle eastern white other',\n",
       "        'black pacific islander', 'middle eastern native american white',\n",
       "        'asian native american white other',\n",
       "        'asian pacific islander white',\n",
       "        'pacific islander hispanic  latin white', 'indian other',\n",
       "        'asian pacific islander other', 'black hispanic  latin other',\n",
       "        'asian black native american',\n",
       "        'black native american hispanic  latin white',\n",
       "        'native american hispanic  latin', 'indian hispanic  latin',\n",
       "        'native american pacific islander',\n",
       "        'asian black native american hispanic  latin white',\n",
       "        'asian black white',\n",
       "        'asian black native american pacific islander other',\n",
       "        'middle eastern hispanic  latin white',\n",
       "        'asian native american hispanic  latin white other', 'asian other',\n",
       "        'asian hispanic  latin', 'asian pacific islander white other',\n",
       "        'asian pacific islander hispanic  latin',\n",
       "        'black native american indian other',\n",
       "        'native american hispanic  latin white other',\n",
       "        'black native american other',\n",
       "        'middle eastern hispanic  latin other',\n",
       "        'pacific islander hispanic  latin white other',\n",
       "        'asian black hispanic  latin',\n",
       "        'asian pacific islander hispanic  latin white',\n",
       "        'asian black native american white',\n",
       "        'asian middle eastern white other',\n",
       "        'native american pacific islander hispanic  latin',\n",
       "        'asian native american white',\n",
       "        'native american pacific islander hispanic  latin white other',\n",
       "        'indian pacific islander', 'asian middle eastern black',\n",
       "        'asian middle eastern indian', 'asian middle eastern white',\n",
       "        'pacific islander white other',\n",
       "        'black pacific islander hispanic  latin', 'asian middle eastern',\n",
       "        'asian hispanic  latin other',\n",
       "        'middle eastern black native american indian white other',\n",
       "        'middle eastern pacific islander other', 'middle eastern black',\n",
       "        'asian indian pacific islander',\n",
       "        'black native american pacific islander', 'native american indian',\n",
       "        'asian middle eastern black native american indian pacific islander hispanic  latin white',\n",
       "        'black indian other',\n",
       "        'asian middle eastern indian hispanic  latin white other',\n",
       "        'middle eastern black white', 'asian hispanic  latin white other',\n",
       "        'native american hispanic  latin other',\n",
       "        'middle eastern black pacific islander white',\n",
       "        'asian black native american hispanic  latin',\n",
       "        'native american other', 'black indian white',\n",
       "        'asian native american hispanic  latin white',\n",
       "        'black native american indian white',\n",
       "        'middle eastern black indian pacific islander hispanic  latin white',\n",
       "        'middle eastern hispanic  latin white other'], dtype=object))"
      ]
     },
     "execution_count": 37,
     "metadata": {},
     "output_type": "execute_result"
    }
   ],
   "source": [
    "df.ethnicity.value_counts(normalize=True), df.ethnicity.isnull().sum() , df.ethnicity.unique()"
   ]
  },
  {
   "cell_type": "code",
   "execution_count": 38,
   "metadata": {},
   "outputs": [],
   "source": [
    "del df[\"ethnicity\"]"
   ]
  },
  {
   "cell_type": "code",
   "execution_count": 39,
   "metadata": {},
   "outputs": [
    {
     "data": {
      "text/html": [
       "<div>\n",
       "<style scoped>\n",
       "    .dataframe tbody tr th:only-of-type {\n",
       "        vertical-align: middle;\n",
       "    }\n",
       "\n",
       "    .dataframe tbody tr th {\n",
       "        vertical-align: top;\n",
       "    }\n",
       "\n",
       "    .dataframe thead th {\n",
       "        text-align: right;\n",
       "    }\n",
       "</style>\n",
       "<table border=\"1\" class=\"dataframe\">\n",
       "  <thead>\n",
       "    <tr style=\"text-align: right;\">\n",
       "      <th></th>\n",
       "      <th>age</th>\n",
       "      <th>body_type</th>\n",
       "      <th>diet</th>\n",
       "      <th>drinks</th>\n",
       "      <th>drugs</th>\n",
       "      <th>education</th>\n",
       "      <th>height</th>\n",
       "      <th>income</th>\n",
       "      <th>job</th>\n",
       "      <th>last_online</th>\n",
       "      <th>location</th>\n",
       "      <th>orientation</th>\n",
       "      <th>pets</th>\n",
       "      <th>religion</th>\n",
       "      <th>sex</th>\n",
       "      <th>sign</th>\n",
       "      <th>smokes</th>\n",
       "      <th>speaks</th>\n",
       "      <th>status</th>\n",
       "      <th>kid</th>\n",
       "      <th>religion_seriousness</th>\n",
       "    </tr>\n",
       "  </thead>\n",
       "  <tbody>\n",
       "    <tr>\n",
       "      <th>7640</th>\n",
       "      <td>27.0</td>\n",
       "      <td>overweight</td>\n",
       "      <td>Vegetarian</td>\n",
       "      <td>3</td>\n",
       "      <td>0</td>\n",
       "      <td>Graduated</td>\n",
       "      <td>62.0</td>\n",
       "      <td>-1.0</td>\n",
       "      <td>science / tech / engineering</td>\n",
       "      <td>2012-06-03-11-04</td>\n",
       "      <td>berkeley, california</td>\n",
       "      <td>straight</td>\n",
       "      <td>likes dogs</td>\n",
       "      <td>other</td>\n",
       "      <td>f</td>\n",
       "      <td>sagittarius but it doesn&amp;rsquo;t matter</td>\n",
       "      <td>no</td>\n",
       "      <td>english (fluently), chinese (okay), french (okay)</td>\n",
       "      <td>seeing someone</td>\n",
       "      <td>0</td>\n",
       "      <td>3</td>\n",
       "    </tr>\n",
       "  </tbody>\n",
       "</table>\n",
       "</div>"
      ],
      "text/plain": [
       "       age   body_type        diet  drinks  drugs  education  height  income  \\\n",
       "7640  27.0  overweight  Vegetarian       3      0  Graduated    62.0    -1.0   \n",
       "\n",
       "                               job       last_online              location  \\\n",
       "7640  science / tech / engineering  2012-06-03-11-04  berkeley, california   \n",
       "\n",
       "     orientation        pets religion sex  \\\n",
       "7640    straight  likes dogs    other   f   \n",
       "\n",
       "                                         sign smokes  \\\n",
       "7640  sagittarius but it doesn&rsquo;t matter     no   \n",
       "\n",
       "                                                 speaks          status  kid  \\\n",
       "7640  english (fluently), chinese (okay), french (okay)  seeing someone    0   \n",
       "\n",
       "      religion_seriousness  \n",
       "7640                     3  "
      ]
     },
     "execution_count": 39,
     "metadata": {},
     "output_type": "execute_result"
    }
   ],
   "source": [
    "df.sample()"
   ]
  },
  {
   "cell_type": "markdown",
   "metadata": {},
   "source": [
    "## Height"
   ]
  },
  {
   "cell_type": "markdown",
   "metadata": {},
   "source": [
    "* numeric"
   ]
  },
  {
   "cell_type": "code",
   "execution_count": 40,
   "metadata": {},
   "outputs": [
    {
     "data": {
      "text/plain": [
       "(height\n",
       " 70.0    0.103427\n",
       " 68.0    0.091024\n",
       " 72.0    0.090393\n",
       " 67.0    0.089762\n",
       " 69.0    0.089342\n",
       " 71.0    0.079252\n",
       " 66.0    0.077360\n",
       " 65.0    0.064011\n",
       " 64.0    0.061909\n",
       " 73.0    0.048770\n",
       " 63.0    0.044881\n",
       " 74.0    0.041097\n",
       " 62.0    0.035527\n",
       " 75.0    0.022598\n",
       " 61.0    0.019445\n",
       " 76.0    0.013664\n",
       " 60.0    0.013139\n",
       " 77.0    0.004520\n",
       " 59.0    0.003363\n",
       " 78.0    0.001472\n",
       " 79.0    0.001472\n",
       " 58.0    0.000946\n",
       " 80.0    0.000841\n",
       " 95.0    0.000315\n",
       " 83.0    0.000210\n",
       " 56.0    0.000210\n",
       " 57.0    0.000210\n",
       " 81.0    0.000210\n",
       " 91.0    0.000105\n",
       " 87.0    0.000105\n",
       " 36.0    0.000105\n",
       " 43.0    0.000105\n",
       " 52.0    0.000105\n",
       " 55.0    0.000105\n",
       " Name: proportion, dtype: float64,\n",
       " 0,\n",
       " array([75., 70., 68., 71., 66., 67., 65., 72., 62., 64., 69., 73., 74.,\n",
       "        60., 63., 76., 61., 78., 79., 59., 80., 91., 83., 77., 58., 56.,\n",
       "        95., 57., 87., 81., 36., 43., 52., 55.]))"
      ]
     },
     "execution_count": 40,
     "metadata": {},
     "output_type": "execute_result"
    }
   ],
   "source": [
    "df.height.value_counts(normalize=True), df.height.isnull().sum(), df.height.unique()"
   ]
  },
  {
   "cell_type": "code",
   "execution_count": 41,
   "metadata": {},
   "outputs": [
    {
     "data": {
      "image/png": "[encoded data removed]",
      "text/plain": [
       "<Figure size 1000x600 with 1 Axes>"
      ]
     },
     "metadata": {},
     "output_type": "display_data"
    }
   ],
   "source": [
    "# plot height\n",
    "import seaborn as sns\n",
    "import matplotlib.pyplot as plt\n",
    "\n",
    "plt.figure(figsize=(10, 6))\n",
    "sns.histplot(df['height'], kde=True)\n",
    "plt.title('Height Distribution')\n",
    "plt.xlabel('Height')\n",
    "plt.ylabel('Frequency')\n",
    "plt.show()"
   ]
  },
  {
   "cell_type": "markdown",
   "metadata": {},
   "source": [
    "## Income"
   ]
  },
  {
   "cell_type": "markdown",
   "metadata": {},
   "source": [
    "* numeric "
   ]
  },
  {
   "cell_type": "code",
   "execution_count": 42,
   "metadata": {},
   "outputs": [
    {
     "data": {
      "image/png": "[encoded data removed]",
      "text/plain": [
       "<Figure size 640x480 with 1 Axes>"
      ]
     },
     "metadata": {},
     "output_type": "display_data"
    }
   ],
   "source": [
    "#kde plot\n",
    "import seaborn as sns\n",
    "import matplotlib.pyplot as plt\n",
    "\n",
    "sns.histplot(df['income'], kde=True, bins=50, color='blue', alpha=0.5, linewidth=0, fill=True, stat='density')\n",
    "plt.legend(['KDE'])\n",
    "plt.xlabel('Income')\n",
    "plt.ylabel('Frequency')\n",
    "plt.title('Income Distribution')\n",
    "plt.show()\n"
   ]
  },
  {
   "cell_type": "code",
   "execution_count": 43,
   "metadata": {},
   "outputs": [
    {
     "data": {
      "text/plain": [
       "count       9514.000000\n",
       "mean       18887.145155\n",
       "std        91428.807808\n",
       "min           -1.000000\n",
       "25%           -1.000000\n",
       "50%           -1.000000\n",
       "75%           -1.000000\n",
       "max      1000000.000000\n",
       "Name: income, dtype: float64"
      ]
     },
     "execution_count": 43,
     "metadata": {},
     "output_type": "execute_result"
    }
   ],
   "source": [
    "df.income.describe()"
   ]
  },
  {
   "cell_type": "code",
   "execution_count": 44,
   "metadata": {},
   "outputs": [
    {
     "data": {
      "text/plain": [
       "(income\n",
       " -1.0          0.809439\n",
       "  20000.0      0.048455\n",
       "  100000.0     0.025541\n",
       "  80000.0      0.018604\n",
       "  50000.0      0.018499\n",
       "  30000.0      0.017028\n",
       "  40000.0      0.016397\n",
       "  60000.0      0.012928\n",
       "  150000.0     0.011457\n",
       "  70000.0      0.010721\n",
       "  1000000.0    0.007568\n",
       "  250000.0     0.002838\n",
       "  500000.0     0.000526\n",
       " Name: proportion, dtype: float64,\n",
       " 0,\n",
       " array([-1.0e+00,  8.0e+04,  2.0e+04,  4.0e+04,  3.0e+04,  5.0e+04,\n",
       "         6.0e+04,  1.0e+06,  1.5e+05,  1.0e+05,  5.0e+05,  7.0e+04,\n",
       "         2.5e+05]))"
      ]
     },
     "execution_count": 44,
     "metadata": {},
     "output_type": "execute_result"
    }
   ],
   "source": [
    "df.income.value_counts(normalize=True), df.income.isnull().sum(), df.income.unique()"
   ]
  },
  {
   "cell_type": "code",
   "execution_count": 45,
   "metadata": {},
   "outputs": [],
   "source": [
    "df[\"income\"] = df[\"income\"].replace({-1.0e+00: 0, 8.0e+04: 80000, 2.0e+04: 20000, 4.0e+04: 40000, 3.0e+04: 30000, 5.0e+04: 50000, 6.0e+04: 60000, 1.0e+06: 1000000, 1.5e+05: 150000, 1.0e+05: 100000, 5.0e+05: 500000, 7.0e+04: 70000, 2.5e+05: 250000})"
   ]
  },
  {
   "cell_type": "code",
   "execution_count": 46,
   "metadata": {},
   "outputs": [
    {
     "data": {
      "image/png": "[encoded data removed]",
      "text/plain": [
       "<Figure size 640x480 with 1 Axes>"
      ]
     },
     "metadata": {},
     "output_type": "display_data"
    }
   ],
   "source": [
    "sns.histplot(df['income'], kde=True, bins=50, color='blue', alpha=0.5, linewidth=0, fill=True, stat='density')\n",
    "plt.legend(['KDE'])\n",
    "plt.xlabel('Income')\n",
    "plt.ylabel('Frequency')\n",
    "plt.title('Income Distribution')\n",
    "plt.show()"
   ]
  },
  {
   "cell_type": "code",
   "execution_count": 47,
   "metadata": {},
   "outputs": [
    {
     "data": {
      "image/png": "[encoded data removed]",
      "text/plain": [
       "<Figure size 600x300 with 1 Axes>"
      ]
     },
     "metadata": {},
     "output_type": "display_data"
    }
   ],
   "source": [
    "# Group by sex and calculate mean income\n",
    "mean_income_by_sex = df.groupby('sex')['income'].mean()\n",
    "\n",
    "# Plot the mean income by sex\n",
    "mean_income_by_sex.plot(kind='bar', color=['blue', 'pink'], alpha=0.7, edgecolor='black', linewidth=2, figsize=(6, 3), rot=0, width=0.5)\n",
    "plt.xlabel('Sex')\n",
    "plt.ylabel('Mean Income')\n",
    "plt.title('Mean Income by Sex')\n",
    "plt.xticks(rotation=0)\n",
    "plt.show()"
   ]
  },
  {
   "cell_type": "code",
   "execution_count": 48,
   "metadata": {},
   "outputs": [
    {
     "data": {
      "text/plain": [
       "(income\n",
       " 0.0          0.809439\n",
       " 20000.0      0.048455\n",
       " 100000.0     0.025541\n",
       " 80000.0      0.018604\n",
       " 50000.0      0.018499\n",
       " 30000.0      0.017028\n",
       " 40000.0      0.016397\n",
       " 60000.0      0.012928\n",
       " 150000.0     0.011457\n",
       " 70000.0      0.010721\n",
       " 1000000.0    0.007568\n",
       " 250000.0     0.002838\n",
       " 500000.0     0.000526\n",
       " Name: proportion, dtype: float64,\n",
       " 0,\n",
       " array([      0.,   80000.,   20000.,   40000.,   30000.,   50000.,\n",
       "          60000., 1000000.,  150000.,  100000.,  500000.,   70000.,\n",
       "         250000.]))"
      ]
     },
     "execution_count": 48,
     "metadata": {},
     "output_type": "execute_result"
    }
   ],
   "source": [
    "df.income.value_counts(normalize=True), df.income.isnull().sum(), df.income.unique()"
   ]
  },
  {
   "cell_type": "code",
   "execution_count": 49,
   "metadata": {},
   "outputs": [
    {
     "data": {
      "text/html": [
       "<div>\n",
       "<style scoped>\n",
       "    .dataframe tbody tr th:only-of-type {\n",
       "        vertical-align: middle;\n",
       "    }\n",
       "\n",
       "    .dataframe tbody tr th {\n",
       "        vertical-align: top;\n",
       "    }\n",
       "\n",
       "    .dataframe thead th {\n",
       "        text-align: right;\n",
       "    }\n",
       "</style>\n",
       "<table border=\"1\" class=\"dataframe\">\n",
       "  <thead>\n",
       "    <tr style=\"text-align: right;\">\n",
       "      <th></th>\n",
       "      <th>age</th>\n",
       "      <th>body_type</th>\n",
       "      <th>diet</th>\n",
       "      <th>drinks</th>\n",
       "      <th>drugs</th>\n",
       "      <th>education</th>\n",
       "      <th>height</th>\n",
       "      <th>income</th>\n",
       "      <th>job</th>\n",
       "      <th>last_online</th>\n",
       "      <th>location</th>\n",
       "      <th>orientation</th>\n",
       "      <th>pets</th>\n",
       "      <th>religion</th>\n",
       "      <th>sex</th>\n",
       "      <th>sign</th>\n",
       "      <th>smokes</th>\n",
       "      <th>speaks</th>\n",
       "      <th>status</th>\n",
       "      <th>kid</th>\n",
       "      <th>religion_seriousness</th>\n",
       "    </tr>\n",
       "  </thead>\n",
       "  <tbody>\n",
       "    <tr>\n",
       "      <th>5978</th>\n",
       "      <td>29.0</td>\n",
       "      <td>average</td>\n",
       "      <td>Anything</td>\n",
       "      <td>2</td>\n",
       "      <td>0</td>\n",
       "      <td>Graduated</td>\n",
       "      <td>62.0</td>\n",
       "      <td>0.0</td>\n",
       "      <td>sales / marketing / biz dev</td>\n",
       "      <td>2011-11-23-09-40</td>\n",
       "      <td>san francisco, california</td>\n",
       "      <td>straight</td>\n",
       "      <td>likes dogs</td>\n",
       "      <td>atheism</td>\n",
       "      <td>f</td>\n",
       "      <td>aries and it&amp;rsquo;s fun to think about</td>\n",
       "      <td>no</td>\n",
       "      <td>english, spanish</td>\n",
       "      <td>single</td>\n",
       "      <td>0</td>\n",
       "      <td>3</td>\n",
       "    </tr>\n",
       "  </tbody>\n",
       "</table>\n",
       "</div>"
      ],
      "text/plain": [
       "       age body_type      diet  drinks  drugs  education  height  income  \\\n",
       "5978  29.0   average  Anything       2      0  Graduated    62.0     0.0   \n",
       "\n",
       "                              job       last_online  \\\n",
       "5978  sales / marketing / biz dev  2011-11-23-09-40   \n",
       "\n",
       "                       location orientation        pets religion sex  \\\n",
       "5978  san francisco, california    straight  likes dogs  atheism   f   \n",
       "\n",
       "                                         sign smokes            speaks  \\\n",
       "5978  aries and it&rsquo;s fun to think about     no  english, spanish   \n",
       "\n",
       "      status  kid  religion_seriousness  \n",
       "5978  single    0                     3  "
      ]
     },
     "execution_count": 49,
     "metadata": {},
     "output_type": "execute_result"
    }
   ],
   "source": [
    "df.sample()"
   ]
  },
  {
   "cell_type": "markdown",
   "metadata": {},
   "source": [
    "## Job"
   ]
  },
  {
   "cell_type": "code",
   "execution_count": 50,
   "metadata": {},
   "outputs": [
    {
     "data": {
      "text/plain": [
       "(job\n",
       " other                                0.138217\n",
       " student                              0.099958\n",
       " science / tech / engineering         0.095438\n",
       " sales / marketing / biz dev          0.090183\n",
       " artistic / musical / writer          0.086925\n",
       " computer / hardware / software       0.085348\n",
       " medicine / health                    0.074732\n",
       " education / academia                 0.065377\n",
       " executive / management               0.044986\n",
       " banking / financial / real estate    0.043725\n",
       " entertainment / media                0.043515\n",
       " hospitality / travel                 0.027749\n",
       " law / legal services                 0.025646\n",
       " construction / craftsmanship         0.021863\n",
       " clerical / administrative            0.013664\n",
       " political / government               0.013139\n",
       " rather not say                       0.007988\n",
       " transportation                       0.007568\n",
       " unemployed                           0.006201\n",
       " retired                              0.004309\n",
       " military                             0.003469\n",
       " Name: proportion, dtype: float64,\n",
       " 0,\n",
       " array(['transportation', 'hospitality / travel', 'student',\n",
       "        'artistic / musical / writer', 'computer / hardware / software',\n",
       "        'education / academia', 'medicine / health',\n",
       "        'sales / marketing / biz dev', 'banking / financial / real estate',\n",
       "        'entertainment / media', 'other', 'science / tech / engineering',\n",
       "        'executive / management', 'clerical / administrative',\n",
       "        'construction / craftsmanship', 'rather not say',\n",
       "        'political / government', 'law / legal services', 'unemployed',\n",
       "        'military', 'retired'], dtype=object))"
      ]
     },
     "execution_count": 50,
     "metadata": {},
     "output_type": "execute_result"
    }
   ],
   "source": [
    "df.job.value_counts(normalize=True), df.job.isnull().sum(), df.job.unique() "
   ]
  },
  {
   "cell_type": "code",
   "execution_count": 51,
   "metadata": {},
   "outputs": [],
   "source": [
    "df['job'] = df['job'].replace({ \n",
    "    'transportation': 'Other',\n",
    "    'hospitality / travel': 'Other',\n",
    "    'student': 'Other',\n",
    "    'artistic / musical / writer': 'Artistic',\n",
    "    'computer / hardware / software': 'Technology',\n",
    "    'banking / financial / real estate': 'Finance',\n",
    "    'entertainment / media': 'Media',\n",
    "    'sales / marketing / biz dev': 'Sales',\n",
    "    'other': 'Other',\n",
    "    'medicine / health': 'Health',\n",
    "    'science / tech / engineering': 'Science',\n",
    "    'executive / management': 'Management',\n",
    "    'education / academia': 'Education',\n",
    "    'clerical / administrative': 'Administration',\n",
    "    'construction / craftsmanship': 'Construction',\n",
    "    'rather not say': 'Other',\n",
    "    'political / government': 'Government',\n",
    "    'law / legal services': 'Law',\n",
    "    'unemployed': 'Other',\n",
    "    'military': 'Other',\n",
    "    'retired': 'Other'})"
   ]
  },
  {
   "cell_type": "code",
   "execution_count": 52,
   "metadata": {},
   "outputs": [
    {
     "data": {
      "text/html": [
       "<div>\n",
       "<style scoped>\n",
       "    .dataframe tbody tr th:only-of-type {\n",
       "        vertical-align: middle;\n",
       "    }\n",
       "\n",
       "    .dataframe tbody tr th {\n",
       "        vertical-align: top;\n",
       "    }\n",
       "\n",
       "    .dataframe thead th {\n",
       "        text-align: right;\n",
       "    }\n",
       "</style>\n",
       "<table border=\"1\" class=\"dataframe\">\n",
       "  <thead>\n",
       "    <tr style=\"text-align: right;\">\n",
       "      <th></th>\n",
       "      <th>age</th>\n",
       "      <th>body_type</th>\n",
       "      <th>diet</th>\n",
       "      <th>drinks</th>\n",
       "      <th>drugs</th>\n",
       "      <th>education</th>\n",
       "      <th>height</th>\n",
       "      <th>income</th>\n",
       "      <th>job</th>\n",
       "      <th>last_online</th>\n",
       "      <th>location</th>\n",
       "      <th>orientation</th>\n",
       "      <th>pets</th>\n",
       "      <th>religion</th>\n",
       "      <th>sex</th>\n",
       "      <th>sign</th>\n",
       "      <th>smokes</th>\n",
       "      <th>speaks</th>\n",
       "      <th>status</th>\n",
       "      <th>kid</th>\n",
       "      <th>religion_seriousness</th>\n",
       "    </tr>\n",
       "  </thead>\n",
       "  <tbody>\n",
       "    <tr>\n",
       "      <th>231</th>\n",
       "      <td>50.0</td>\n",
       "      <td>thin</td>\n",
       "      <td>Anything</td>\n",
       "      <td>2</td>\n",
       "      <td>0</td>\n",
       "      <td>Graduated</td>\n",
       "      <td>66.0</td>\n",
       "      <td>0.0</td>\n",
       "      <td>Sales</td>\n",
       "      <td>2012-06-29-20-35</td>\n",
       "      <td>fremont, california</td>\n",
       "      <td>straight</td>\n",
       "      <td>likes dogs</td>\n",
       "      <td>christianity</td>\n",
       "      <td>f</td>\n",
       "      <td>leo</td>\n",
       "      <td>no</td>\n",
       "      <td>english (fluently), spanish (fluently)</td>\n",
       "      <td>single</td>\n",
       "      <td>1</td>\n",
       "      <td>3</td>\n",
       "    </tr>\n",
       "  </tbody>\n",
       "</table>\n",
       "</div>"
      ],
      "text/plain": [
       "      age body_type      diet  drinks  drugs  education  height  income  \\\n",
       "231  50.0      thin  Anything       2      0  Graduated    66.0     0.0   \n",
       "\n",
       "       job       last_online             location orientation        pets  \\\n",
       "231  Sales  2012-06-29-20-35  fremont, california    straight  likes dogs   \n",
       "\n",
       "         religion sex sign smokes                                  speaks  \\\n",
       "231  christianity   f  leo     no  english (fluently), spanish (fluently)   \n",
       "\n",
       "     status  kid  religion_seriousness  \n",
       "231  single    1                     3  "
      ]
     },
     "execution_count": 52,
     "metadata": {},
     "output_type": "execute_result"
    }
   ],
   "source": [
    "df.sample()"
   ]
  },
  {
   "cell_type": "markdown",
   "metadata": {},
   "source": [
    "## Last online"
   ]
  },
  {
   "cell_type": "markdown",
   "metadata": {},
   "source": [
    "* Unnecessary"
   ]
  },
  {
   "cell_type": "code",
   "execution_count": 53,
   "metadata": {},
   "outputs": [],
   "source": [
    "del df[\"last_online\"]"
   ]
  },
  {
   "cell_type": "markdown",
   "metadata": {},
   "source": [
    "## Location (use city column)"
   ]
  },
  {
   "cell_type": "code",
   "execution_count": 54,
   "metadata": {},
   "outputs": [
    {
     "data": {
      "text/plain": [
       "(location\n",
       " san francisco, california    0.508198\n",
       " oakland, california          0.124133\n",
       " berkeley, california         0.080723\n",
       " san mateo, california        0.021757\n",
       " palo alto, california        0.017868\n",
       "                                ...   \n",
       " boulder, colorado            0.000105\n",
       " san geronimo, california     0.000105\n",
       " petaluma, california         0.000105\n",
       " santa cruz, california       0.000105\n",
       " madrid, spain                0.000105\n",
       " Name: proportion, Length: 89, dtype: float64,\n",
       " 0,\n",
       " array(['south san francisco, california', 'oakland, california',\n",
       "        'san francisco, california', 'berkeley, california',\n",
       "        'belvedere tiburon, california', 'san mateo, california',\n",
       "        'daly city, california', 'san leandro, california',\n",
       "        'atherton, california', 'san rafael, california',\n",
       "        'walnut creek, california', 'menlo park, california',\n",
       "        'belmont, california', 'san jose, california',\n",
       "        'palo alto, california', 'emeryville, california',\n",
       "        'el granada, california', 'castro valley, california',\n",
       "        'fairfax, california', 'mountain view, california',\n",
       "        'burlingame, california', 'martinez, california',\n",
       "        'pleasant hill, california', 'hayward, california',\n",
       "        'alameda, california', 'vallejo, california',\n",
       "        'benicia, california', 'el cerrito, california',\n",
       "        'mill valley, california', 'richmond, california',\n",
       "        'redwood city, california', 'el sobrante, california',\n",
       "        'stanford, california', 'san pablo, california',\n",
       "        'novato, california', 'pacifica, california',\n",
       "        'lafayette, california', 'half moon bay, california',\n",
       "        'fremont, california', 'orinda, california',\n",
       "        'san anselmo, california', 'corte madera, california',\n",
       "        'albany, california', 'san carlos, california',\n",
       "        'san lorenzo, california', 'foster city, california',\n",
       "        'hercules, california', 'santa cruz, california',\n",
       "        'bolinas, california', 'sausalito, california',\n",
       "        'millbrae, california', 'larkspur, california',\n",
       "        'moraga, california', 'san bruno, california',\n",
       "        'petaluma, california', 'pinole, california',\n",
       "        'san geronimo, california', 'crockett, california',\n",
       "        'boulder, colorado', 'brisbane, california', 'freedom, california',\n",
       "        'montara, california', 'green brae, california',\n",
       "        'woodside, california', 'new york, new york', 'ross, california',\n",
       "        'east palo alto, california', 'san quentin, california',\n",
       "        'portland, oregon', 'rodeo, california',\n",
       "        'hacienda heights, california', 'woodacre, california',\n",
       "        'westlake, california', 'riverside, california',\n",
       "        'rohnert park, california', 'sacramento, california',\n",
       "        'point richmond, california', 'san diego, california',\n",
       "        'canyon country, california', 'tucson, arizona',\n",
       "        'honolulu, hawaii', 'billings, montana',\n",
       "        'west oakland, california', 'kentfield, california',\n",
       "        'milwaukee, wisconsin', 'woodbridge, virginia',\n",
       "        'glencove, california', 'tiburon, california', 'madrid, spain'],\n",
       "       dtype=object))"
      ]
     },
     "execution_count": 54,
     "metadata": {},
     "output_type": "execute_result"
    }
   ],
   "source": [
    "df.location.value_counts(normalize=True), df.location.isnull().sum(), df.location.unique()  "
   ]
  },
  {
   "cell_type": "code",
   "execution_count": 55,
   "metadata": {},
   "outputs": [],
   "source": [
    "# Extract the city from the 'location' column\n",
    "df['city'] = df['location'].apply(lambda x: x.split(',')[0])\n"
   ]
  },
  {
   "cell_type": "code",
   "execution_count": 56,
   "metadata": {},
   "outputs": [
    {
     "data": {
      "text/plain": [
       "city\n",
       "orinda               19\n",
       "fairfax              18\n",
       "pinole               18\n",
       "belvedere tiburon    17\n",
       "hercules             16\n",
       "corte madera         14\n",
       "moraga               13\n",
       "half moon bay        12\n",
       "fremont              11\n",
       "green brae           11\n",
       "atherton             10\n",
       "larkspur              9\n",
       "brisbane              9\n",
       "crockett              8\n",
       "foster city           7\n",
       "ross                  4\n",
       "montara               3\n",
       "rodeo                 3\n",
       "east palo alto        2\n",
       "west oakland          2\n",
       "portland              2\n",
       "point richmond        2\n",
       "kentfield             2\n",
       "sacramento            2\n",
       "san jose              2\n",
       "bolinas               2\n",
       "el granada            2\n",
       "milwaukee             1\n",
       "glencove              1\n",
       "billings              1\n",
       "tiburon               1\n",
       "honolulu              1\n",
       "tucson                1\n",
       "canyon country        1\n",
       "san diego             1\n",
       "woodbridge            1\n",
       "woodside              1\n",
       "rohnert park          1\n",
       "riverside             1\n",
       "westlake              1\n",
       "woodacre              1\n",
       "hacienda heights      1\n",
       "san quentin           1\n",
       "new york              1\n",
       "freedom               1\n",
       "boulder               1\n",
       "san geronimo          1\n",
       "petaluma              1\n",
       "santa cruz            1\n",
       "madrid                1\n",
       "Name: count, dtype: int64"
      ]
     },
     "execution_count": 56,
     "metadata": {},
     "output_type": "execute_result"
    }
   ],
   "source": [
    "df.city.value_counts(normalize=False).tail(50)"
   ]
  },
  {
   "cell_type": "code",
   "execution_count": 57,
   "metadata": {},
   "outputs": [
    {
     "data": {
      "text/plain": [
       "['south san francisco', ' california']"
      ]
     },
     "execution_count": 57,
     "metadata": {},
     "output_type": "execute_result"
    }
   ],
   "source": [
    "df.location.str.split(',')[0]"
   ]
  },
  {
   "cell_type": "code",
   "execution_count": 58,
   "metadata": {},
   "outputs": [],
   "source": [
    "threshold = 10\n",
    "value_counts = df['city'].value_counts()\n",
    "rare_categories = value_counts[value_counts < threshold].index\n",
    "df['city'].replace(rare_categories, 'other', inplace=True)"
   ]
  },
  {
   "cell_type": "code",
   "execution_count": 59,
   "metadata": {},
   "outputs": [
    {
     "data": {
      "text/plain": [
       "(city\n",
       " san francisco          4835\n",
       " oakland                1181\n",
       " berkeley                768\n",
       " san mateo               207\n",
       " palo alto               170\n",
       " alameda                 155\n",
       " san rafael              134\n",
       " emeryville              117\n",
       " redwood city            115\n",
       " hayward                 112\n",
       " walnut creek            112\n",
       " menlo park               97\n",
       " daly city                95\n",
       " san leandro              94\n",
       " vallejo                  90\n",
       " other                    84\n",
       " richmond                 67\n",
       " el cerrito               64\n",
       " burlingame               63\n",
       " novato                   59\n",
       " mountain view            56\n",
       " stanford                 53\n",
       " south san francisco      53\n",
       " pleasant hill            53\n",
       " castro valley            51\n",
       " pacifica                 48\n",
       " san carlos               45\n",
       " martinez                 43\n",
       " mill valley              39\n",
       " san bruno                39\n",
       " belmont                  38\n",
       " albany                   32\n",
       " sausalito                27\n",
       " san anselmo              25\n",
       " benicia                  25\n",
       " lafayette                24\n",
       " san pablo                24\n",
       " millbrae                 21\n",
       " el sobrante              20\n",
       " san lorenzo              20\n",
       " orinda                   19\n",
       " fairfax                  18\n",
       " pinole                   18\n",
       " belvedere tiburon        17\n",
       " hercules                 16\n",
       " corte madera             14\n",
       " moraga                   13\n",
       " half moon bay            12\n",
       " fremont                  11\n",
       " green brae               11\n",
       " atherton                 10\n",
       " Name: count, dtype: int64,\n",
       " 0,\n",
       " array(['south san francisco', 'oakland', 'san francisco', 'berkeley',\n",
       "        'belvedere tiburon', 'san mateo', 'daly city', 'san leandro',\n",
       "        'atherton', 'san rafael', 'walnut creek', 'menlo park', 'belmont',\n",
       "        'other', 'palo alto', 'emeryville', 'castro valley', 'fairfax',\n",
       "        'mountain view', 'burlingame', 'martinez', 'pleasant hill',\n",
       "        'hayward', 'alameda', 'vallejo', 'benicia', 'el cerrito',\n",
       "        'mill valley', 'richmond', 'redwood city', 'el sobrante',\n",
       "        'stanford', 'san pablo', 'novato', 'pacifica', 'lafayette',\n",
       "        'half moon bay', 'fremont', 'orinda', 'san anselmo',\n",
       "        'corte madera', 'albany', 'san carlos', 'san lorenzo', 'hercules',\n",
       "        'sausalito', 'millbrae', 'moraga', 'san bruno', 'pinole',\n",
       "        'green brae'], dtype=object))"
      ]
     },
     "execution_count": 59,
     "metadata": {},
     "output_type": "execute_result"
    }
   ],
   "source": [
    "df.city.value_counts(normalize=False), df.city.isnull().sum(), df.city.unique()  "
   ]
  },
  {
   "cell_type": "code",
   "execution_count": 60,
   "metadata": {},
   "outputs": [],
   "source": [
    "del df[\"city\"] # unnecessary"
   ]
  },
  {
   "cell_type": "code",
   "execution_count": 61,
   "metadata": {},
   "outputs": [],
   "source": [
    "del df[\"location\"]\n"
   ]
  },
  {
   "cell_type": "code",
   "execution_count": 62,
   "metadata": {},
   "outputs": [
    {
     "data": {
      "text/html": [
       "<div>\n",
       "<style scoped>\n",
       "    .dataframe tbody tr th:only-of-type {\n",
       "        vertical-align: middle;\n",
       "    }\n",
       "\n",
       "    .dataframe tbody tr th {\n",
       "        vertical-align: top;\n",
       "    }\n",
       "\n",
       "    .dataframe thead th {\n",
       "        text-align: right;\n",
       "    }\n",
       "</style>\n",
       "<table border=\"1\" class=\"dataframe\">\n",
       "  <thead>\n",
       "    <tr style=\"text-align: right;\">\n",
       "      <th></th>\n",
       "      <th>age</th>\n",
       "      <th>body_type</th>\n",
       "      <th>diet</th>\n",
       "      <th>drinks</th>\n",
       "      <th>drugs</th>\n",
       "      <th>education</th>\n",
       "      <th>height</th>\n",
       "      <th>income</th>\n",
       "      <th>job</th>\n",
       "      <th>orientation</th>\n",
       "      <th>pets</th>\n",
       "      <th>religion</th>\n",
       "      <th>sex</th>\n",
       "      <th>sign</th>\n",
       "      <th>smokes</th>\n",
       "      <th>speaks</th>\n",
       "      <th>status</th>\n",
       "      <th>kid</th>\n",
       "      <th>religion_seriousness</th>\n",
       "    </tr>\n",
       "  </thead>\n",
       "  <tbody>\n",
       "    <tr>\n",
       "      <th>1152</th>\n",
       "      <td>28.0</td>\n",
       "      <td>average</td>\n",
       "      <td>Anything</td>\n",
       "      <td>2</td>\n",
       "      <td>0</td>\n",
       "      <td>Graduated</td>\n",
       "      <td>71.0</td>\n",
       "      <td>0.0</td>\n",
       "      <td>Technology</td>\n",
       "      <td>straight</td>\n",
       "      <td>likes cats</td>\n",
       "      <td>buddhism</td>\n",
       "      <td>m</td>\n",
       "      <td>gemini but it doesn&amp;rsquo;t matter</td>\n",
       "      <td>no</td>\n",
       "      <td>english (fluently), spanish (fluently), french...</td>\n",
       "      <td>single</td>\n",
       "      <td>0</td>\n",
       "      <td>3</td>\n",
       "    </tr>\n",
       "  </tbody>\n",
       "</table>\n",
       "</div>"
      ],
      "text/plain": [
       "       age body_type      diet  drinks  drugs  education  height  income  \\\n",
       "1152  28.0   average  Anything       2      0  Graduated    71.0     0.0   \n",
       "\n",
       "             job orientation        pets  religion sex  \\\n",
       "1152  Technology    straight  likes cats  buddhism   m   \n",
       "\n",
       "                                    sign smokes  \\\n",
       "1152  gemini but it doesn&rsquo;t matter     no   \n",
       "\n",
       "                                                 speaks  status  kid  \\\n",
       "1152  english (fluently), spanish (fluently), french...  single    0   \n",
       "\n",
       "      religion_seriousness  \n",
       "1152                     3  "
      ]
     },
     "execution_count": 62,
     "metadata": {},
     "output_type": "execute_result"
    }
   ],
   "source": [
    "df.sample()"
   ]
  },
  {
   "cell_type": "markdown",
   "metadata": {},
   "source": [
    "## Orientation"
   ]
  },
  {
   "cell_type": "code",
   "execution_count": 63,
   "metadata": {},
   "outputs": [
    {
     "data": {
      "text/plain": [
       "(orientation\n",
       " straight    0.860942\n",
       " gay         0.094282\n",
       " bisexual    0.044776\n",
       " Name: proportion, dtype: float64,\n",
       " 0,\n",
       " array(['straight', 'bisexual', 'gay'], dtype=object))"
      ]
     },
     "execution_count": 63,
     "metadata": {},
     "output_type": "execute_result"
    }
   ],
   "source": [
    "df.orientation.value_counts(normalize=True), df.orientation.isnull().sum(), df.orientation.unique()"
   ]
  },
  {
   "cell_type": "code",
   "execution_count": 64,
   "metadata": {},
   "outputs": [],
   "source": [
    "df['orientation'] = df['orientation'].replace({ \"straight\":0 , \"gay\":1, \"bisexual\":2})"
   ]
  },
  {
   "cell_type": "markdown",
   "metadata": {},
   "source": [
    "## Pets "
   ]
  },
  {
   "cell_type": "markdown",
   "metadata": {},
   "source": [
    "* has animal, likes animal , dislikes animal columns are created"
   ]
  },
  {
   "cell_type": "code",
   "execution_count": 65,
   "metadata": {},
   "outputs": [
    {
     "data": {
      "text/plain": [
       "(pets\n",
       " likes dogs and likes cats          0.362203\n",
       " likes dogs                         0.179840\n",
       " likes dogs and has cats            0.107316\n",
       " has dogs                           0.106054\n",
       " has dogs and likes cats            0.059491\n",
       " likes dogs and dislikes cats       0.046668\n",
       " has dogs and has cats              0.037524\n",
       " has cats                           0.035632\n",
       " likes cats                         0.032899\n",
       " has dogs and dislikes cats         0.013769\n",
       " dislikes dogs and dislikes cats    0.006727\n",
       " dislikes dogs and likes cats       0.005991\n",
       " dislikes cats                      0.003153\n",
       " dislikes dogs and has cats         0.002207\n",
       " dislikes dogs                      0.000526\n",
       " Name: proportion, dtype: float64,\n",
       " 0,\n",
       " array(['likes dogs and likes cats', 'has cats', 'likes cats',\n",
       "        'likes dogs', 'has dogs and likes cats', 'likes dogs and has cats',\n",
       "        'likes dogs and dislikes cats', 'has dogs',\n",
       "        'has dogs and dislikes cats', 'dislikes dogs and dislikes cats',\n",
       "        'has dogs and has cats', 'dislikes dogs and has cats',\n",
       "        'dislikes cats', 'dislikes dogs and likes cats', 'dislikes dogs'],\n",
       "       dtype=object))"
      ]
     },
     "execution_count": 65,
     "metadata": {},
     "output_type": "execute_result"
    }
   ],
   "source": [
    "df.pets.value_counts(normalize=True), df.pets.isnull().sum(), df.pets.unique()"
   ]
  },
  {
   "cell_type": "code",
   "execution_count": 66,
   "metadata": {},
   "outputs": [],
   "source": [
    "df[\"has animal\"] = df[\"pets\"].str.contains(\"has\", na=False).astype(int)\n",
    "df[\"likes animal\"] = df[\"pets\"].str.contains(\"likes\", na=False).astype(int)\n",
    "df[\"dislikes animal\"] = df[\"pets\"].str.contains(\"dislikes\", na=False).astype(int)"
   ]
  },
  {
   "cell_type": "code",
   "execution_count": 67,
   "metadata": {},
   "outputs": [],
   "source": [
    "del df[\"pets\"]"
   ]
  },
  {
   "cell_type": "code",
   "execution_count": 68,
   "metadata": {},
   "outputs": [
    {
     "data": {
      "text/html": [
       "<div>\n",
       "<style scoped>\n",
       "    .dataframe tbody tr th:only-of-type {\n",
       "        vertical-align: middle;\n",
       "    }\n",
       "\n",
       "    .dataframe tbody tr th {\n",
       "        vertical-align: top;\n",
       "    }\n",
       "\n",
       "    .dataframe thead th {\n",
       "        text-align: right;\n",
       "    }\n",
       "</style>\n",
       "<table border=\"1\" class=\"dataframe\">\n",
       "  <thead>\n",
       "    <tr style=\"text-align: right;\">\n",
       "      <th></th>\n",
       "      <th>age</th>\n",
       "      <th>body_type</th>\n",
       "      <th>diet</th>\n",
       "      <th>drinks</th>\n",
       "      <th>drugs</th>\n",
       "      <th>education</th>\n",
       "      <th>height</th>\n",
       "      <th>income</th>\n",
       "      <th>job</th>\n",
       "      <th>orientation</th>\n",
       "      <th>religion</th>\n",
       "      <th>sex</th>\n",
       "      <th>sign</th>\n",
       "      <th>smokes</th>\n",
       "      <th>speaks</th>\n",
       "      <th>status</th>\n",
       "      <th>kid</th>\n",
       "      <th>religion_seriousness</th>\n",
       "      <th>has animal</th>\n",
       "      <th>likes animal</th>\n",
       "      <th>dislikes animal</th>\n",
       "    </tr>\n",
       "  </thead>\n",
       "  <tbody>\n",
       "    <tr>\n",
       "      <th>557</th>\n",
       "      <td>35.0</td>\n",
       "      <td>thin</td>\n",
       "      <td>Anything</td>\n",
       "      <td>2</td>\n",
       "      <td>0</td>\n",
       "      <td>Graduated</td>\n",
       "      <td>62.0</td>\n",
       "      <td>0.0</td>\n",
       "      <td>Sales</td>\n",
       "      <td>0</td>\n",
       "      <td>christianity</td>\n",
       "      <td>f</td>\n",
       "      <td>leo</td>\n",
       "      <td>no</td>\n",
       "      <td>english</td>\n",
       "      <td>single</td>\n",
       "      <td>0</td>\n",
       "      <td>3</td>\n",
       "      <td>0</td>\n",
       "      <td>1</td>\n",
       "      <td>0</td>\n",
       "    </tr>\n",
       "  </tbody>\n",
       "</table>\n",
       "</div>"
      ],
      "text/plain": [
       "      age body_type      diet  drinks  drugs  education  height  income  \\\n",
       "557  35.0      thin  Anything       2      0  Graduated    62.0     0.0   \n",
       "\n",
       "       job  orientation      religion sex sign smokes   speaks  status  kid  \\\n",
       "557  Sales            0  christianity   f  leo     no  english  single    0   \n",
       "\n",
       "     religion_seriousness  has animal  likes animal  dislikes animal  \n",
       "557                     3           0             1                0  "
      ]
     },
     "execution_count": 68,
     "metadata": {},
     "output_type": "execute_result"
    }
   ],
   "source": [
    "df.sample()"
   ]
  },
  {
   "cell_type": "markdown",
   "metadata": {},
   "source": [
    "## Sex "
   ]
  },
  {
   "cell_type": "markdown",
   "metadata": {},
   "source": [
    "* onehot or ordinal"
   ]
  },
  {
   "cell_type": "code",
   "execution_count": 69,
   "metadata": {},
   "outputs": [
    {
     "data": {
      "text/plain": [
       "(sex\n",
       " 0    0.596489\n",
       " 1    0.403511\n",
       " Name: proportion, dtype: float64,\n",
       " 0)"
      ]
     },
     "execution_count": 69,
     "metadata": {},
     "output_type": "execute_result"
    }
   ],
   "source": [
    "#ordinal encoding \n",
    "df.replace(['m', 'f'], [0, 1], inplace=True)\n",
    "df.sex.value_counts(normalize=True), df.sex.isnull().sum()"
   ]
  },
  {
   "cell_type": "code",
   "execution_count": 70,
   "metadata": {},
   "outputs": [
    {
     "data": {
      "text/html": [
       "<div>\n",
       "<style scoped>\n",
       "    .dataframe tbody tr th:only-of-type {\n",
       "        vertical-align: middle;\n",
       "    }\n",
       "\n",
       "    .dataframe tbody tr th {\n",
       "        vertical-align: top;\n",
       "    }\n",
       "\n",
       "    .dataframe thead th {\n",
       "        text-align: right;\n",
       "    }\n",
       "</style>\n",
       "<table border=\"1\" class=\"dataframe\">\n",
       "  <thead>\n",
       "    <tr style=\"text-align: right;\">\n",
       "      <th></th>\n",
       "      <th>age</th>\n",
       "      <th>body_type</th>\n",
       "      <th>diet</th>\n",
       "      <th>drinks</th>\n",
       "      <th>drugs</th>\n",
       "      <th>education</th>\n",
       "      <th>height</th>\n",
       "      <th>income</th>\n",
       "      <th>job</th>\n",
       "      <th>orientation</th>\n",
       "      <th>religion</th>\n",
       "      <th>sex</th>\n",
       "      <th>sign</th>\n",
       "      <th>smokes</th>\n",
       "      <th>speaks</th>\n",
       "      <th>status</th>\n",
       "      <th>kid</th>\n",
       "      <th>religion_seriousness</th>\n",
       "      <th>has animal</th>\n",
       "      <th>likes animal</th>\n",
       "      <th>dislikes animal</th>\n",
       "    </tr>\n",
       "  </thead>\n",
       "  <tbody>\n",
       "    <tr>\n",
       "      <th>7908</th>\n",
       "      <td>30.0</td>\n",
       "      <td>fit</td>\n",
       "      <td>Anything</td>\n",
       "      <td>0</td>\n",
       "      <td>0</td>\n",
       "      <td>Graduated</td>\n",
       "      <td>76.0</td>\n",
       "      <td>250000.0</td>\n",
       "      <td>Management</td>\n",
       "      <td>0</td>\n",
       "      <td>other</td>\n",
       "      <td>0</td>\n",
       "      <td>capricorn</td>\n",
       "      <td>no</td>\n",
       "      <td>english, spanish, german</td>\n",
       "      <td>single</td>\n",
       "      <td>0</td>\n",
       "      <td>3</td>\n",
       "      <td>0</td>\n",
       "      <td>1</td>\n",
       "      <td>0</td>\n",
       "    </tr>\n",
       "  </tbody>\n",
       "</table>\n",
       "</div>"
      ],
      "text/plain": [
       "       age body_type      diet  drinks  drugs  education  height    income  \\\n",
       "7908  30.0       fit  Anything       0      0  Graduated    76.0  250000.0   \n",
       "\n",
       "             job  orientation religion  sex       sign smokes  \\\n",
       "7908  Management            0    other    0  capricorn     no   \n",
       "\n",
       "                        speaks  status  kid  religion_seriousness  has animal  \\\n",
       "7908  english, spanish, german  single    0                     3           0   \n",
       "\n",
       "      likes animal  dislikes animal  \n",
       "7908             1                0  "
      ]
     },
     "execution_count": 70,
     "metadata": {},
     "output_type": "execute_result"
    }
   ],
   "source": [
    "df.sample()"
   ]
  },
  {
   "cell_type": "markdown",
   "metadata": {},
   "source": [
    "## Sign"
   ]
  },
  {
   "cell_type": "code",
   "execution_count": 71,
   "metadata": {},
   "outputs": [
    {
     "data": {
      "text/plain": [
       "(sign\n",
       " taurus and it&rsquo;s fun to think about         0.036052\n",
       " gemini and it&rsquo;s fun to think about         0.034265\n",
       " leo and it&rsquo;s fun to think about            0.033740\n",
       " pisces and it&rsquo;s fun to think about         0.033214\n",
       " scorpio and it&rsquo;s fun to think about        0.033109\n",
       " aries and it&rsquo;s fun to think about          0.033109\n",
       " libra and it&rsquo;s fun to think about          0.032794\n",
       " cancer and it&rsquo;s fun to think about         0.032794\n",
       " virgo and it&rsquo;s fun to think about          0.032689\n",
       " aries but it doesn&rsquo;t matter                0.031953\n",
       " aquarius but it doesn&rsquo;t matter             0.031743\n",
       " leo but it doesn&rsquo;t matter                  0.031322\n",
       " aquarius and it&rsquo;s fun to think about       0.030587\n",
       " virgo but it doesn&rsquo;t matter                0.030376\n",
       " sagittarius and it&rsquo;s fun to think about    0.030166\n",
       " cancer but it doesn&rsquo;t matter               0.029956\n",
       " taurus but it doesn&rsquo;t matter               0.029535\n",
       " gemini but it doesn&rsquo;t matter               0.029115\n",
       " libra but it doesn&rsquo;t matter                0.028905\n",
       " sagittarius but it doesn&rsquo;t matter          0.028484\n",
       " scorpio but it doesn&rsquo;t matter              0.027538\n",
       " capricorn and it&rsquo;s fun to think about      0.027013\n",
       " leo                                              0.023860\n",
       " cancer                                           0.023544\n",
       " pisces but it doesn&rsquo;t matter               0.023334\n",
       " capricorn but it doesn&rsquo;t matter            0.023229\n",
       " pisces                                           0.022914\n",
       " virgo                                            0.022178\n",
       " libra                                            0.021863\n",
       " aquarius                                         0.021652\n",
       " gemini                                           0.021232\n",
       " aries                                            0.021127\n",
       " taurus                                           0.020496\n",
       " scorpio                                          0.019971\n",
       " sagittarius                                      0.017133\n",
       " capricorn                                        0.015451\n",
       " scorpio and it matters a lot                     0.002207\n",
       " aquarius and it matters a lot                    0.001682\n",
       " pisces and it matters a lot                      0.001472\n",
       " capricorn and it matters a lot                   0.001261\n",
       " sagittarius and it matters a lot                 0.001261\n",
       " cancer and it matters a lot                      0.001156\n",
       " leo and it matters a lot                         0.001051\n",
       " gemini and it matters a lot                      0.001051\n",
       " libra and it matters a lot                       0.000946\n",
       " aries and it matters a lot                       0.000631\n",
       " taurus and it matters a lot                      0.000526\n",
       " virgo and it matters a lot                       0.000315\n",
       " Name: proportion, dtype: float64,\n",
       " 0,\n",
       " array(['gemini', 'cancer', 'pisces but it doesn&rsquo;t matter', 'pisces',\n",
       "        'aquarius', 'taurus', 'virgo', 'sagittarius',\n",
       "        'gemini but it doesn&rsquo;t matter',\n",
       "        'cancer but it doesn&rsquo;t matter',\n",
       "        'leo but it doesn&rsquo;t matter', 'leo',\n",
       "        'aquarius but it doesn&rsquo;t matter',\n",
       "        'aries and it&rsquo;s fun to think about',\n",
       "        'libra but it doesn&rsquo;t matter',\n",
       "        'pisces and it&rsquo;s fun to think about', 'libra',\n",
       "        'taurus but it doesn&rsquo;t matter',\n",
       "        'sagittarius but it doesn&rsquo;t matter',\n",
       "        'scorpio and it matters a lot',\n",
       "        'gemini and it&rsquo;s fun to think about',\n",
       "        'leo and it&rsquo;s fun to think about',\n",
       "        'cancer and it&rsquo;s fun to think about',\n",
       "        'libra and it&rsquo;s fun to think about',\n",
       "        'taurus and it&rsquo;s fun to think about',\n",
       "        'aquarius and it&rsquo;s fun to think about',\n",
       "        'virgo but it doesn&rsquo;t matter',\n",
       "        'sagittarius and it&rsquo;s fun to think about',\n",
       "        'scorpio and it&rsquo;s fun to think about',\n",
       "        'capricorn but it doesn&rsquo;t matter',\n",
       "        'sagittarius and it matters a lot',\n",
       "        'capricorn and it&rsquo;s fun to think about', 'capricorn',\n",
       "        'scorpio', 'aries but it doesn&rsquo;t matter', 'aries',\n",
       "        'scorpio but it doesn&rsquo;t matter',\n",
       "        'libra and it matters a lot', 'leo and it matters a lot',\n",
       "        'pisces and it matters a lot',\n",
       "        'virgo and it&rsquo;s fun to think about',\n",
       "        'cancer and it matters a lot', 'virgo and it matters a lot',\n",
       "        'aries and it matters a lot', 'capricorn and it matters a lot',\n",
       "        'aquarius and it matters a lot', 'gemini and it matters a lot',\n",
       "        'taurus and it matters a lot'], dtype=object))"
      ]
     },
     "execution_count": 71,
     "metadata": {},
     "output_type": "execute_result"
    }
   ],
   "source": [
    "df.sign.value_counts(normalize=True), df.sign.isnull().sum(), df.sign.unique()"
   ]
  },
  {
   "cell_type": "code",
   "execution_count": 72,
   "metadata": {},
   "outputs": [],
   "source": [
    "df['sign'] = df['sign'].str.replace('doesn&rsquo;t', \"doesn't\")\n",
    "df['sign'] = df['sign'].str.replace('it&rsquo;s', \"it's\")\n"
   ]
  },
  {
   "cell_type": "code",
   "execution_count": 73,
   "metadata": {},
   "outputs": [],
   "source": [
    "# sign_seriousness feature is created\n",
    "def get_seriousness(sign):\n",
    "    if \"doesn't matter\" in sign:\n",
    "        return 0\n",
    "    elif \"fun to think about\" in sign:\n",
    "        return 2\n",
    "    elif \"matters a lot\" in sign:\n",
    "        return 3\n",
    "    else:\n",
    "        return 2\n",
    "\n",
    "df['sign_seriousness'] = df['sign'].apply(get_seriousness)"
   ]
  },
  {
   "cell_type": "code",
   "execution_count": 74,
   "metadata": {},
   "outputs": [
    {
     "data": {
      "text/plain": [
       "(sign\n",
       " leo            0.089973\n",
       " cancer         0.087450\n",
       " aries          0.086819\n",
       " taurus         0.086609\n",
       " gemini         0.085663\n",
       " aquarius       0.085663\n",
       " virgo          0.085558\n",
       " libra          0.084507\n",
       " scorpio        0.082825\n",
       " pisces         0.080933\n",
       " sagittarius    0.077044\n",
       " capricorn      0.066954\n",
       " Name: proportion, dtype: float64,\n",
       " 0,\n",
       " array(['gemini', 'cancer', 'pisces', 'aquarius', 'taurus', 'virgo',\n",
       "        'sagittarius', 'leo', 'aries', 'libra', 'scorpio', 'capricorn'],\n",
       "       dtype=object))"
      ]
     },
     "execution_count": 74,
     "metadata": {},
     "output_type": "execute_result"
    }
   ],
   "source": [
    "sign_names = ['scorpio', 'capricorn', 'pisces', 'virgo', 'cancer', 'aries', 'gemini', 'libra', 'sagittarius', 'leo', 'taurus', 'aquarius']\n",
    "# extract sign_names\n",
    "def extract_sign(x):\n",
    "    for sign in sign_names:\n",
    "        if x.startswith(sign):\n",
    "            return sign\n",
    "    return x\n",
    "\n",
    "df['sign'] = df['sign'].apply(extract_sign)\n",
    "df.sign.value_counts(normalize=True), df.sign.isnull().sum(), df.sign.unique()"
   ]
  },
  {
   "cell_type": "code",
   "execution_count": 75,
   "metadata": {},
   "outputs": [
    {
     "data": {
      "text/html": [
       "<div>\n",
       "<style scoped>\n",
       "    .dataframe tbody tr th:only-of-type {\n",
       "        vertical-align: middle;\n",
       "    }\n",
       "\n",
       "    .dataframe tbody tr th {\n",
       "        vertical-align: top;\n",
       "    }\n",
       "\n",
       "    .dataframe thead th {\n",
       "        text-align: right;\n",
       "    }\n",
       "</style>\n",
       "<table border=\"1\" class=\"dataframe\">\n",
       "  <thead>\n",
       "    <tr style=\"text-align: right;\">\n",
       "      <th></th>\n",
       "      <th>age</th>\n",
       "      <th>body_type</th>\n",
       "      <th>diet</th>\n",
       "      <th>drinks</th>\n",
       "      <th>drugs</th>\n",
       "      <th>education</th>\n",
       "      <th>height</th>\n",
       "      <th>income</th>\n",
       "      <th>job</th>\n",
       "      <th>orientation</th>\n",
       "      <th>religion</th>\n",
       "      <th>sex</th>\n",
       "      <th>sign</th>\n",
       "      <th>smokes</th>\n",
       "      <th>speaks</th>\n",
       "      <th>status</th>\n",
       "      <th>kid</th>\n",
       "      <th>religion_seriousness</th>\n",
       "      <th>has animal</th>\n",
       "      <th>likes animal</th>\n",
       "      <th>dislikes animal</th>\n",
       "      <th>sign_seriousness</th>\n",
       "    </tr>\n",
       "  </thead>\n",
       "  <tbody>\n",
       "    <tr>\n",
       "      <th>7066</th>\n",
       "      <td>21.0</td>\n",
       "      <td>thin</td>\n",
       "      <td>Anything</td>\n",
       "      <td>2</td>\n",
       "      <td>0</td>\n",
       "      <td>Graduated</td>\n",
       "      <td>70.0</td>\n",
       "      <td>0.0</td>\n",
       "      <td>Other</td>\n",
       "      <td>1</td>\n",
       "      <td>atheism</td>\n",
       "      <td>0</td>\n",
       "      <td>taurus</td>\n",
       "      <td>no</td>\n",
       "      <td>english (fluently)</td>\n",
       "      <td>single</td>\n",
       "      <td>0</td>\n",
       "      <td>3</td>\n",
       "      <td>0</td>\n",
       "      <td>1</td>\n",
       "      <td>0</td>\n",
       "      <td>2</td>\n",
       "    </tr>\n",
       "  </tbody>\n",
       "</table>\n",
       "</div>"
      ],
      "text/plain": [
       "       age body_type      diet  drinks  drugs  education  height  income  \\\n",
       "7066  21.0      thin  Anything       2      0  Graduated    70.0     0.0   \n",
       "\n",
       "        job  orientation religion  sex    sign smokes              speaks  \\\n",
       "7066  Other            1  atheism    0  taurus     no  english (fluently)   \n",
       "\n",
       "      status  kid  religion_seriousness  has animal  likes animal  \\\n",
       "7066  single    0                     3           0             1   \n",
       "\n",
       "      dislikes animal  sign_seriousness  \n",
       "7066                0                 2  "
      ]
     },
     "execution_count": 75,
     "metadata": {},
     "output_type": "execute_result"
    }
   ],
   "source": [
    "df.sample()"
   ]
  },
  {
   "cell_type": "code",
   "execution_count": 76,
   "metadata": {},
   "outputs": [
    {
     "data": {
      "text/plain": [
       "(9514, 22)"
      ]
     },
     "execution_count": 76,
     "metadata": {},
     "output_type": "execute_result"
    }
   ],
   "source": [
    "df.shape    "
   ]
  },
  {
   "cell_type": "markdown",
   "metadata": {},
   "source": [
    "## Smokes"
   ]
  },
  {
   "cell_type": "code",
   "execution_count": 77,
   "metadata": {},
   "outputs": [
    {
     "data": {
      "text/plain": [
       "(smokes\n",
       " no                0.817532\n",
       " sometimes         0.064536\n",
       " when drinking     0.055077\n",
       " yes               0.035632\n",
       " trying to quit    0.027223\n",
       " Name: proportion, dtype: float64,\n",
       " 0,\n",
       " array(['sometimes', 'no', 'when drinking', 'yes', 'trying to quit'],\n",
       "       dtype=object))"
      ]
     },
     "execution_count": 77,
     "metadata": {},
     "output_type": "execute_result"
    }
   ],
   "source": [
    "df.smokes.value_counts(normalize=True), df.smokes.isnull().sum(), df.smokes.unique()"
   ]
  },
  {
   "cell_type": "code",
   "execution_count": 78,
   "metadata": {},
   "outputs": [
    {
     "data": {
      "text/plain": [
       "(smokes\n",
       " 0    0.817532\n",
       " 1    0.182468\n",
       " Name: proportion, dtype: float64,\n",
       " 0,\n",
       " array([1, 0], dtype=int64))"
      ]
     },
     "execution_count": 78,
     "metadata": {},
     "output_type": "execute_result"
    }
   ],
   "source": [
    "df.replace({'smokes': {'no': 0, 'sometimes': 1, 'when drinking': 1, 'yes': 1, 'trying to quit': 1}}, inplace=True)\n",
    "df.smokes.value_counts(normalize=True), df.smokes.isnull().sum(), df.smokes.unique()"
   ]
  },
  {
   "cell_type": "code",
   "execution_count": 79,
   "metadata": {},
   "outputs": [
    {
     "data": {
      "text/html": [
       "<div>\n",
       "<style scoped>\n",
       "    .dataframe tbody tr th:only-of-type {\n",
       "        vertical-align: middle;\n",
       "    }\n",
       "\n",
       "    .dataframe tbody tr th {\n",
       "        vertical-align: top;\n",
       "    }\n",
       "\n",
       "    .dataframe thead th {\n",
       "        text-align: right;\n",
       "    }\n",
       "</style>\n",
       "<table border=\"1\" class=\"dataframe\">\n",
       "  <thead>\n",
       "    <tr style=\"text-align: right;\">\n",
       "      <th></th>\n",
       "      <th>age</th>\n",
       "      <th>body_type</th>\n",
       "      <th>diet</th>\n",
       "      <th>drinks</th>\n",
       "      <th>drugs</th>\n",
       "      <th>education</th>\n",
       "      <th>height</th>\n",
       "      <th>income</th>\n",
       "      <th>job</th>\n",
       "      <th>orientation</th>\n",
       "      <th>religion</th>\n",
       "      <th>sex</th>\n",
       "      <th>sign</th>\n",
       "      <th>smokes</th>\n",
       "      <th>speaks</th>\n",
       "      <th>status</th>\n",
       "      <th>kid</th>\n",
       "      <th>religion_seriousness</th>\n",
       "      <th>has animal</th>\n",
       "      <th>likes animal</th>\n",
       "      <th>dislikes animal</th>\n",
       "      <th>sign_seriousness</th>\n",
       "    </tr>\n",
       "  </thead>\n",
       "  <tbody>\n",
       "    <tr>\n",
       "      <th>1224</th>\n",
       "      <td>25.0</td>\n",
       "      <td>fit</td>\n",
       "      <td>Anything</td>\n",
       "      <td>1</td>\n",
       "      <td>0</td>\n",
       "      <td>Graduated</td>\n",
       "      <td>72.0</td>\n",
       "      <td>1000000.0</td>\n",
       "      <td>Management</td>\n",
       "      <td>0</td>\n",
       "      <td>atheism</td>\n",
       "      <td>0</td>\n",
       "      <td>scorpio</td>\n",
       "      <td>0</td>\n",
       "      <td>english, spanish, italian</td>\n",
       "      <td>single</td>\n",
       "      <td>0</td>\n",
       "      <td>3</td>\n",
       "      <td>1</td>\n",
       "      <td>1</td>\n",
       "      <td>0</td>\n",
       "      <td>2</td>\n",
       "    </tr>\n",
       "  </tbody>\n",
       "</table>\n",
       "</div>"
      ],
      "text/plain": [
       "       age body_type      diet  drinks  drugs  education  height     income  \\\n",
       "1224  25.0       fit  Anything       1      0  Graduated    72.0  1000000.0   \n",
       "\n",
       "             job  orientation religion  sex     sign  smokes  \\\n",
       "1224  Management            0  atheism    0  scorpio       0   \n",
       "\n",
       "                         speaks  status  kid  religion_seriousness  \\\n",
       "1224  english, spanish, italian  single    0                     3   \n",
       "\n",
       "      has animal  likes animal  dislikes animal  sign_seriousness  \n",
       "1224           1             1                0                 2  "
      ]
     },
     "execution_count": 79,
     "metadata": {},
     "output_type": "execute_result"
    }
   ],
   "source": [
    "df.sample()"
   ]
  },
  {
   "cell_type": "markdown",
   "metadata": {},
   "source": [
    "## Speaks (nothing to do)"
   ]
  },
  {
   "cell_type": "code",
   "execution_count": 80,
   "metadata": {},
   "outputs": [
    {
     "data": {
      "text/plain": [
       "(speaks\n",
       " english                                                                                3417\n",
       " english (fluently)                                                                     1108\n",
       " english (fluently), spanish (okay)                                                      322\n",
       " english (fluently), spanish (poorly)                                                    321\n",
       " english (fluently), spanish (fluently)                                                  195\n",
       "                                                                                        ... \n",
       " english (fluently), hindi (fluently), spanish (okay)                                      1\n",
       " english (fluently), danish (fluently), spanish (okay), german (poorly)                    1\n",
       " english (fluently), spanish (fluently), portuguese                                        1\n",
       " english (fluently), arabic (fluently), spanish (okay), urdu (okay), gujarati (okay)       1\n",
       " english (fluently), french (okay), swedish (poorly)                                       1\n",
       " Name: count, Length: 1794, dtype: int64,\n",
       " 0,\n",
       " array(['english', 'english (fluently), spanish (poorly), french (poorly)',\n",
       "        'english, french, c++', ...,\n",
       "        'english (fluently), french (okay), spanish (poorly), sign language (poorly)',\n",
       "        'english (fluently), spanish, swedish',\n",
       "        'english (fluently), french (okay), swedish (poorly)'],\n",
       "       dtype=object))"
      ]
     },
     "execution_count": 80,
     "metadata": {},
     "output_type": "execute_result"
    }
   ],
   "source": [
    "df.speaks.value_counts() , df.speaks.isnull().sum(), df.speaks.unique()"
   ]
  },
  {
   "cell_type": "code",
   "execution_count": 81,
   "metadata": {},
   "outputs": [],
   "source": [
    "df[\"eng\"] = df[\"speaks\"].str.contains(\"english\", na=False).astype(int)\n",
    "df[\"spanish\"] = df[\"speaks\"].str.contains(\"spanish\", na=False).astype(int)\n",
    "df[\"french\"] = df[\"speaks\"].str.contains(\"french\", na=False).astype(int)\n",
    "df[\"german\"] = df[\"speaks\"].str.contains(\"german\", na=False).astype(int)\n",
    "df[\"russian\"] = df[\"speaks\"].str.contains(\"russian\", na=False).astype(int)\n",
    "df[\"italian\"] = df[\"speaks\"].str.contains(\"italian\", na=False).astype(int)\n",
    "df[\"portuguese\"] = df[\"speaks\"].str.contains(\"portuguese\", na=False).astype(int)\n",
    "df[\"chinese\"] = df[\"speaks\"].str.contains(\"chinese\", na=False).astype(int)\n",
    "df[\"japanese\"] = df[\"speaks\"].str.contains(\"japanese\", na=False).astype(int)\n",
    "df[\"korean\"] = df[\"speaks\"].str.contains(\"korean\", na=False).astype(int)\n",
    "df[\"arabic\"] = df[\"speaks\"].str.contains(\"arabic\", na=False).astype(int)\n",
    "df[\"hindi\"] = df[\"speaks\"].str.contains(\"hindi\", na=False).astype(int)\n"
   ]
  },
  {
   "cell_type": "code",
   "execution_count": 82,
   "metadata": {},
   "outputs": [],
   "source": [
    "del df[\"speaks\"]"
   ]
  },
  {
   "cell_type": "markdown",
   "metadata": {},
   "source": [
    "## Status"
   ]
  },
  {
   "cell_type": "code",
   "execution_count": 83,
   "metadata": {},
   "outputs": [
    {
     "data": {
      "text/plain": [
       "(status\n",
       " single            0.936410\n",
       " seeing someone    0.030376\n",
       " available         0.028379\n",
       " married           0.004835\n",
       " Name: proportion, dtype: float64,\n",
       " 0,\n",
       " array(['single', 'available', 'seeing someone', 'married'], dtype=object))"
      ]
     },
     "execution_count": 83,
     "metadata": {},
     "output_type": "execute_result"
    }
   ],
   "source": [
    "df.status.value_counts(normalize=True), df.status.isnull().sum(), df.status.unique()"
   ]
  },
  {
   "cell_type": "markdown",
   "metadata": {},
   "source": [
    "-------------"
   ]
  },
  {
   "cell_type": "markdown",
   "metadata": {},
   "source": [
    "## Generation"
   ]
  },
  {
   "cell_type": "code",
   "execution_count": 84,
   "metadata": {},
   "outputs": [],
   "source": [
    "df['age']=df['age'].astype(int)\n",
    "\n",
    "generation = []\n",
    "for i in range(len(df)):\n",
    "    if 17 < int(df[\"age\"].iloc[i]) < 33:\n",
    "        generation.append(1)\n",
    "    elif 32 < int(df[\"age\"].iloc[i]) < 48:\n",
    "        generation.append(2)\n",
    "    else:\n",
    "        generation.append(3)\n",
    "df[\"generation\"] = generation"
   ]
  },
  {
   "cell_type": "code",
   "execution_count": 85,
   "metadata": {},
   "outputs": [
    {
     "data": {
      "text/plain": [
       "(generation\n",
       " 1    0.635590\n",
       " 2    0.286000\n",
       " 3    0.078411\n",
       " Name: proportion, dtype: float64,\n",
       " 0,\n",
       " array([1, 2, 3], dtype=int64))"
      ]
     },
     "execution_count": 85,
     "metadata": {},
     "output_type": "execute_result"
    }
   ],
   "source": [
    "df.generation.value_counts(normalize=True), df.generation.isnull().sum(), df.generation.unique()"
   ]
  },
  {
   "cell_type": "markdown",
   "metadata": {},
   "source": [
    "------------"
   ]
  },
  {
   "cell_type": "code",
   "execution_count": 86,
   "metadata": {},
   "outputs": [
    {
     "name": "stdout",
     "output_type": "stream",
     "text": [
      "<class 'pandas.core.frame.DataFrame'>\n",
      "RangeIndex: 9514 entries, 0 to 9513\n",
      "Data columns (total 34 columns):\n",
      " #   Column                Non-Null Count  Dtype  \n",
      "---  ------                --------------  -----  \n",
      " 0   age                   9514 non-null   int32  \n",
      " 1   body_type             9514 non-null   object \n",
      " 2   diet                  9514 non-null   object \n",
      " 3   drinks                9514 non-null   int64  \n",
      " 4   drugs                 9514 non-null   int64  \n",
      " 5   education             9514 non-null   object \n",
      " 6   height                9514 non-null   float64\n",
      " 7   income                9514 non-null   float64\n",
      " 8   job                   9514 non-null   object \n",
      " 9   orientation           9514 non-null   int64  \n",
      " 10  religion              9514 non-null   object \n",
      " 11  sex                   9514 non-null   int64  \n",
      " 12  sign                  9514 non-null   object \n",
      " 13  smokes                9514 non-null   int64  \n",
      " 14  status                9514 non-null   object \n",
      " 15  kid                   9514 non-null   int32  \n",
      " 16  religion_seriousness  9514 non-null   int64  \n",
      " 17  has animal            9514 non-null   int32  \n",
      " 18  likes animal          9514 non-null   int32  \n",
      " 19  dislikes animal       9514 non-null   int32  \n",
      " 20  sign_seriousness      9514 non-null   int64  \n",
      " 21  eng                   9514 non-null   int32  \n",
      " 22  spanish               9514 non-null   int32  \n",
      " 23  french                9514 non-null   int32  \n",
      " 24  german                9514 non-null   int32  \n",
      " 25  russian               9514 non-null   int32  \n",
      " 26  italian               9514 non-null   int32  \n",
      " 27  portuguese            9514 non-null   int32  \n",
      " 28  chinese               9514 non-null   int32  \n",
      " 29  japanese              9514 non-null   int32  \n",
      " 30  korean                9514 non-null   int32  \n",
      " 31  arabic                9514 non-null   int32  \n",
      " 32  hindi                 9514 non-null   int32  \n",
      " 33  generation            9514 non-null   int64  \n",
      "dtypes: float64(2), int32(17), int64(8), object(7)\n",
      "memory usage: 1.9+ MB\n"
     ]
    }
   ],
   "source": [
    "df.info()"
   ]
  },
  {
   "cell_type": "code",
   "execution_count": 87,
   "metadata": {},
   "outputs": [
    {
     "data": {
      "text/html": [
       "<div>\n",
       "<style scoped>\n",
       "    .dataframe tbody tr th:only-of-type {\n",
       "        vertical-align: middle;\n",
       "    }\n",
       "\n",
       "    .dataframe tbody tr th {\n",
       "        vertical-align: top;\n",
       "    }\n",
       "\n",
       "    .dataframe thead th {\n",
       "        text-align: right;\n",
       "    }\n",
       "</style>\n",
       "<table border=\"1\" class=\"dataframe\">\n",
       "  <thead>\n",
       "    <tr style=\"text-align: right;\">\n",
       "      <th></th>\n",
       "      <th>age</th>\n",
       "      <th>body_type</th>\n",
       "      <th>diet</th>\n",
       "      <th>drinks</th>\n",
       "      <th>drugs</th>\n",
       "      <th>education</th>\n",
       "      <th>height</th>\n",
       "      <th>income</th>\n",
       "      <th>job</th>\n",
       "      <th>orientation</th>\n",
       "      <th>religion</th>\n",
       "      <th>sex</th>\n",
       "      <th>sign</th>\n",
       "      <th>smokes</th>\n",
       "      <th>status</th>\n",
       "      <th>kid</th>\n",
       "      <th>religion_seriousness</th>\n",
       "      <th>has animal</th>\n",
       "      <th>likes animal</th>\n",
       "      <th>dislikes animal</th>\n",
       "      <th>sign_seriousness</th>\n",
       "      <th>eng</th>\n",
       "      <th>spanish</th>\n",
       "      <th>french</th>\n",
       "      <th>german</th>\n",
       "      <th>russian</th>\n",
       "      <th>italian</th>\n",
       "      <th>portuguese</th>\n",
       "      <th>chinese</th>\n",
       "      <th>japanese</th>\n",
       "      <th>korean</th>\n",
       "      <th>arabic</th>\n",
       "      <th>hindi</th>\n",
       "      <th>generation</th>\n",
       "    </tr>\n",
       "  </thead>\n",
       "  <tbody>\n",
       "    <tr>\n",
       "      <th>3781</th>\n",
       "      <td>27</td>\n",
       "      <td>fit</td>\n",
       "      <td>Anything</td>\n",
       "      <td>1</td>\n",
       "      <td>0</td>\n",
       "      <td>Graduated</td>\n",
       "      <td>69.0</td>\n",
       "      <td>0.0</td>\n",
       "      <td>Technology</td>\n",
       "      <td>1</td>\n",
       "      <td>atheism</td>\n",
       "      <td>0</td>\n",
       "      <td>gemini</td>\n",
       "      <td>0</td>\n",
       "      <td>single</td>\n",
       "      <td>0</td>\n",
       "      <td>3</td>\n",
       "      <td>0</td>\n",
       "      <td>1</td>\n",
       "      <td>0</td>\n",
       "      <td>2</td>\n",
       "      <td>1</td>\n",
       "      <td>0</td>\n",
       "      <td>0</td>\n",
       "      <td>0</td>\n",
       "      <td>1</td>\n",
       "      <td>0</td>\n",
       "      <td>0</td>\n",
       "      <td>0</td>\n",
       "      <td>0</td>\n",
       "      <td>0</td>\n",
       "      <td>0</td>\n",
       "      <td>0</td>\n",
       "      <td>1</td>\n",
       "    </tr>\n",
       "  </tbody>\n",
       "</table>\n",
       "</div>"
      ],
      "text/plain": [
       "      age body_type      diet  drinks  drugs  education  height  income  \\\n",
       "3781   27       fit  Anything       1      0  Graduated    69.0     0.0   \n",
       "\n",
       "             job  orientation religion  sex    sign  smokes  status  kid  \\\n",
       "3781  Technology            1  atheism    0  gemini       0  single    0   \n",
       "\n",
       "      religion_seriousness  has animal  likes animal  dislikes animal  \\\n",
       "3781                     3           0             1                0   \n",
       "\n",
       "      sign_seriousness  eng  spanish  french  german  russian  italian  \\\n",
       "3781                 2    1        0       0       0        1        0   \n",
       "\n",
       "      portuguese  chinese  japanese  korean  arabic  hindi  generation  \n",
       "3781           0        0         0       0       0      0           1  "
      ]
     },
     "execution_count": 87,
     "metadata": {},
     "output_type": "execute_result"
    }
   ],
   "source": [
    "df.sample()"
   ]
  },
  {
   "cell_type": "markdown",
   "metadata": {},
   "source": [
    "# ML"
   ]
  },
  {
   "cell_type": "markdown",
   "metadata": {},
   "source": [
    "## Can your profile predict your age?"
   ]
  },
  {
   "cell_type": "code",
   "execution_count": 88,
   "metadata": {},
   "outputs": [
    {
     "data": {
      "text/plain": [
       "Index(['age', 'body_type', 'diet', 'drinks', 'drugs', 'education', 'height',\n",
       "       'income', 'job', 'orientation', 'religion', 'sex', 'sign', 'smokes',\n",
       "       'status', 'kid', 'religion_seriousness', 'has animal', 'likes animal',\n",
       "       'dislikes animal', 'sign_seriousness', 'eng', 'spanish', 'french',\n",
       "       'german', 'russian', 'italian', 'portuguese', 'chinese', 'japanese',\n",
       "       'korean', 'arabic', 'hindi', 'generation'],\n",
       "      dtype='object')"
      ]
     },
     "execution_count": 88,
     "metadata": {},
     "output_type": "execute_result"
    }
   ],
   "source": [
    "df.columns"
   ]
  },
  {
   "cell_type": "code",
   "execution_count": 89,
   "metadata": {},
   "outputs": [
    {
     "data": {
      "text/plain": [
       "Index(['body_type', 'diet', 'education', 'job', 'religion', 'sign', 'status'], dtype='object')"
      ]
     },
     "execution_count": 89,
     "metadata": {},
     "output_type": "execute_result"
    }
   ],
   "source": [
    "object_columns = df.select_dtypes(include=['object']).columns\n",
    "df_age = pd.get_dummies(df, columns=object_columns, drop_first=True)\n",
    "object_columns "
   ]
  },
  {
   "cell_type": "code",
   "execution_count": 90,
   "metadata": {},
   "outputs": [
    {
     "data": {
      "text/plain": [
       "(9514, 74)"
      ]
     },
     "execution_count": 90,
     "metadata": {},
     "output_type": "execute_result"
    }
   ],
   "source": [
    "df_age.shape"
   ]
  },
  {
   "cell_type": "code",
   "execution_count": 91,
   "metadata": {},
   "outputs": [],
   "source": [
    "X = df_age.drop(['age'], axis=1)\n",
    "y = df_age['age']"
   ]
  },
  {
   "cell_type": "code",
   "execution_count": 92,
   "metadata": {},
   "outputs": [],
   "source": [
    "# algo_test(X,y)"
   ]
  },
  {
   "cell_type": "code",
   "execution_count": 93,
   "metadata": {},
   "outputs": [
    {
     "name": "stdout",
     "output_type": "stream",
     "text": [
      "R2 Score: 0.8574586483407863\n",
      "RMSE: 3.599286685721211\n",
      "MAE: 2.929409159055913\n"
     ]
    }
   ],
   "source": [
    "x_train, x_test, y_train, y_test = train_test_split(X, y, test_size=0.20, random_state=42)\n",
    "# fit with gradient boosting regressor\n",
    "model = GradientBoostingRegressor()\n",
    "model.fit(x_train, y_train)\n",
    "p = model.predict(x_test)\n",
    "\n",
    "print('R2 Score:', r2_score(y_test, p))\n",
    "print('RMSE:', mean_squared_error(y_test, p) ** 0.5)\n",
    "print('MAE:', mean_absolute_error(y_test, p))"
   ]
  },
  {
   "cell_type": "markdown",
   "metadata": {},
   "source": [
    "## Can your profile predict the generation you belong to? (Millennial, Gen X-er, or Boomers)"
   ]
  },
  {
   "cell_type": "code",
   "execution_count": 94,
   "metadata": {},
   "outputs": [],
   "source": [
    "import pandas as pd\n",
    "import numpy as np\n",
    "import warnings\n",
    "from tabulate import tabulate  # Tabulate kütüphanesini import et\n",
    "\n",
    "warnings.filterwarnings(\"ignore\")\n",
    "pd.set_option(\"display.max_columns\", 100)\n",
    "\n",
    "from sklearn.linear_model import LogisticRegression\n",
    "from sklearn.neighbors import KNeighborsClassifier\n",
    "from sklearn.ensemble import RandomForestClassifier, AdaBoostClassifier, GradientBoostingClassifier\n",
    "from sklearn.svm import SVC\n",
    "from sklearn.naive_bayes import GaussianNB\n",
    "from sklearn.tree import DecisionTreeClassifier\n",
    "from sklearn.neural_network import MLPClassifier\n",
    "\n",
    "from sklearn.model_selection import train_test_split\n",
    "from sklearn.metrics import accuracy_score, precision_score, recall_score, f1_score\n",
    "\n",
    "def algo_test_classification(x, y):\n",
    "    # Bütün modelleri tanımlıyorum\n",
    "    log_reg = LogisticRegression()\n",
    "    knn = KNeighborsClassifier()\n",
    "    rf = RandomForestClassifier()\n",
    "    ada = AdaBoostClassifier()\n",
    "    gbdt = GradientBoostingClassifier()\n",
    "    svc = SVC()\n",
    "    nb = GaussianNB()\n",
    "    dt = DecisionTreeClassifier()\n",
    "    mlp = MLPClassifier()\n",
    "\n",
    "    algos = [log_reg, knn, rf, ada, gbdt, svc, nb, dt, mlp]\n",
    "    algo_names = ['Logistic Regression', 'KNN', 'Random Forest', 'AdaBoost', 'Gradient Boosting', \n",
    "                   'SVC', 'Naive Bayes', 'Decision Tree', 'MLP']\n",
    "\n",
    "    x_train, x_test, y_train, y_test = train_test_split(x, y, test_size=0.20, random_state=42)\n",
    "    \n",
    "    accuracy = []\n",
    "    precision = []\n",
    "    recall = []\n",
    "    f1 = []\n",
    "\n",
    "    # Hata ve doğruluk oranlarını bir tablo haline getirmek için bir dataframe oluşturuyorum\n",
    "    result = pd.DataFrame(columns=['Accuracy', 'Precision', 'Recall', 'F1 Score'], index=algo_names)\n",
    "    \n",
    "    for algo in algos:\n",
    "        p = algo.fit(x_train, y_train).predict(x_test)\n",
    "        accuracy.append(accuracy_score(y_test, p))\n",
    "        precision.append(precision_score(y_test, p, average='weighted'))\n",
    "        recall.append(recall_score(y_test, p, average='weighted'))\n",
    "        f1.append(f1_score(y_test, p, average='weighted'))\n",
    "        \n",
    "    # result adlı tabloya doğruluk ve hata oranlarımı yerleştiriyorum\n",
    "    result['Accuracy'] = accuracy\n",
    "    result['Precision'] = precision\n",
    "    result['Recall'] = recall\n",
    "    result['F1 Score'] = f1\n",
    "    \n",
    "    # Oluşturduğum result tablosunu doğruluk oranına (accuracy) göre sıralayıp dönüyor\n",
    "    rtable = result.sort_values('Accuracy', ascending=False)\n",
    "    \n",
    "    # Tabloyu daha güzel bir formatta yazdırmak için tabulate kullan\n",
    "    print(tabulate(rtable, headers='keys', tablefmt='psql'))\n",
    "    return rtable\n"
   ]
  },
  {
   "cell_type": "code",
   "execution_count": 95,
   "metadata": {},
   "outputs": [
    {
     "name": "stdout",
     "output_type": "stream",
     "text": [
      "+---------------------+------------+-------------+----------+------------+\n",
      "|                     |   Accuracy |   Precision |   Recall |   F1 Score |\n",
      "|---------------------+------------+-------------+----------+------------|\n",
      "| Gradient Boosting   |   0.682081 |    0.637325 | 0.682081 |   0.621021 |\n",
      "| AdaBoost            |   0.677877 |    0.632497 | 0.677877 |   0.62721  |\n",
      "| Random Forest       |   0.666842 |    0.617445 | 0.666842 |   0.616259 |\n",
      "| Logistic Regression |   0.656858 |    0.560855 | 0.656858 |   0.582086 |\n",
      "| MLP                 |   0.647924 |    0.622815 | 0.647924 |   0.610162 |\n",
      "| SVC                 |   0.647399 |    0.606431 | 0.647399 |   0.518839 |\n",
      "| Naive Bayes         |   0.642144 |    0.412349 | 0.642144 |   0.502208 |\n",
      "| KNN                 |   0.61114  |    0.563703 | 0.61114  |   0.567609 |\n",
      "| Decision Tree       |   0.553862 |    0.563354 | 0.553862 |   0.558202 |\n",
      "+---------------------+------------+-------------+----------+------------+\n"
     ]
    },
    {
     "data": {
      "text/html": [
       "<div>\n",
       "<style scoped>\n",
       "    .dataframe tbody tr th:only-of-type {\n",
       "        vertical-align: middle;\n",
       "    }\n",
       "\n",
       "    .dataframe tbody tr th {\n",
       "        vertical-align: top;\n",
       "    }\n",
       "\n",
       "    .dataframe thead th {\n",
       "        text-align: right;\n",
       "    }\n",
       "</style>\n",
       "<table border=\"1\" class=\"dataframe\">\n",
       "  <thead>\n",
       "    <tr style=\"text-align: right;\">\n",
       "      <th></th>\n",
       "      <th>Accuracy</th>\n",
       "      <th>Precision</th>\n",
       "      <th>Recall</th>\n",
       "      <th>F1 Score</th>\n",
       "    </tr>\n",
       "  </thead>\n",
       "  <tbody>\n",
       "    <tr>\n",
       "      <th>Gradient Boosting</th>\n",
       "      <td>0.682081</td>\n",
       "      <td>0.637325</td>\n",
       "      <td>0.682081</td>\n",
       "      <td>0.621021</td>\n",
       "    </tr>\n",
       "    <tr>\n",
       "      <th>AdaBoost</th>\n",
       "      <td>0.677877</td>\n",
       "      <td>0.632497</td>\n",
       "      <td>0.677877</td>\n",
       "      <td>0.627210</td>\n",
       "    </tr>\n",
       "    <tr>\n",
       "      <th>Random Forest</th>\n",
       "      <td>0.666842</td>\n",
       "      <td>0.617445</td>\n",
       "      <td>0.666842</td>\n",
       "      <td>0.616259</td>\n",
       "    </tr>\n",
       "    <tr>\n",
       "      <th>Logistic Regression</th>\n",
       "      <td>0.656858</td>\n",
       "      <td>0.560855</td>\n",
       "      <td>0.656858</td>\n",
       "      <td>0.582086</td>\n",
       "    </tr>\n",
       "    <tr>\n",
       "      <th>MLP</th>\n",
       "      <td>0.647924</td>\n",
       "      <td>0.622815</td>\n",
       "      <td>0.647924</td>\n",
       "      <td>0.610162</td>\n",
       "    </tr>\n",
       "    <tr>\n",
       "      <th>SVC</th>\n",
       "      <td>0.647399</td>\n",
       "      <td>0.606431</td>\n",
       "      <td>0.647399</td>\n",
       "      <td>0.518839</td>\n",
       "    </tr>\n",
       "    <tr>\n",
       "      <th>Naive Bayes</th>\n",
       "      <td>0.642144</td>\n",
       "      <td>0.412349</td>\n",
       "      <td>0.642144</td>\n",
       "      <td>0.502208</td>\n",
       "    </tr>\n",
       "    <tr>\n",
       "      <th>KNN</th>\n",
       "      <td>0.611140</td>\n",
       "      <td>0.563703</td>\n",
       "      <td>0.611140</td>\n",
       "      <td>0.567609</td>\n",
       "    </tr>\n",
       "    <tr>\n",
       "      <th>Decision Tree</th>\n",
       "      <td>0.553862</td>\n",
       "      <td>0.563354</td>\n",
       "      <td>0.553862</td>\n",
       "      <td>0.558202</td>\n",
       "    </tr>\n",
       "  </tbody>\n",
       "</table>\n",
       "</div>"
      ],
      "text/plain": [
       "                     Accuracy  Precision    Recall  F1 Score\n",
       "Gradient Boosting    0.682081   0.637325  0.682081  0.621021\n",
       "AdaBoost             0.677877   0.632497  0.677877  0.627210\n",
       "Random Forest        0.666842   0.617445  0.666842  0.616259\n",
       "Logistic Regression  0.656858   0.560855  0.656858  0.582086\n",
       "MLP                  0.647924   0.622815  0.647924  0.610162\n",
       "SVC                  0.647399   0.606431  0.647399  0.518839\n",
       "Naive Bayes          0.642144   0.412349  0.642144  0.502208\n",
       "KNN                  0.611140   0.563703  0.611140  0.567609\n",
       "Decision Tree        0.553862   0.563354  0.553862  0.558202"
      ]
     },
     "execution_count": 95,
     "metadata": {},
     "output_type": "execute_result"
    }
   ],
   "source": [
    "# generation guess\n",
    "df_gen= pd.get_dummies(df, columns=object_columns, drop_first=True)\n",
    "x = df_gen.drop(['generation',\"age\"], axis=1)\n",
    "y = df_gen['generation']\n",
    "algo_test_classification(x, y)"
   ]
  },
  {
   "cell_type": "markdown",
   "metadata": {},
   "source": [
    "# Conclusion\n",
    "\n",
    "In this project, we successfully implemented and evaluated various classification and regression models to predict the generation and other target variables. The results demonstrated the effectiveness of different algorithms, with some models outperforming others in terms of accuracy and R-squared values. Future work could focus on further optimizing these models and exploring additional features to improve predictive performance."
   ]
  }
 ],
 "metadata": {
  "kernelspec": {
   "display_name": "Python 3",
   "language": "python",
   "name": "python3"
  },
  "language_info": {
   "codemirror_mode": {
    "name": "ipython",
    "version": 3
   },
   "file_extension": ".py",
   "mimetype": "text/x-python",
   "name": "python",
   "nbconvert_exporter": "python",
   "pygments_lexer": "ipython3",
   "version": "3.11.5"
  }
 },
 "nbformat": 4,
 "nbformat_minor": 2
}
